{
 "cells": [
  {
   "cell_type": "markdown",
   "metadata": {},
   "source": [
    "#Revisión general de los datos."
   ]
  },
  {
   "cell_type": "code",
   "execution_count": 1,
   "metadata": {},
   "outputs": [],
   "source": [
    "#Tratamiento y exportación de datos\n",
    "#importamos librerias\n",
    "import pandas as pd    # Librería para tablas y tratamiento de datos.\n",
    "#Para una visualización completa de todas las columnas:\n",
    "pd.set_option('display.max_columns', None)"
   ]
  },
  {
   "cell_type": "code",
   "execution_count": 2,
   "metadata": {},
   "outputs": [
    {
     "data": {
      "text/html": [
       "<div>\n",
       "<style scoped>\n",
       "    .dataframe tbody tr th:only-of-type {\n",
       "        vertical-align: middle;\n",
       "    }\n",
       "\n",
       "    .dataframe tbody tr th {\n",
       "        vertical-align: top;\n",
       "    }\n",
       "\n",
       "    .dataframe thead th {\n",
       "        text-align: right;\n",
       "    }\n",
       "</style>\n",
       "<table border=\"1\" class=\"dataframe\">\n",
       "  <thead>\n",
       "    <tr style=\"text-align: right;\">\n",
       "      <th></th>\n",
       "      <th>id_cliente</th>\n",
       "      <th>nombre</th>\n",
       "      <th>apellido</th>\n",
       "      <th>ciudad</th>\n",
       "    </tr>\n",
       "  </thead>\n",
       "  <tbody>\n",
       "    <tr>\n",
       "      <th>5</th>\n",
       "      <td>C0006</td>\n",
       "      <td>Elena</td>\n",
       "      <td>López</td>\n",
       "      <td>Braga, Portugal</td>\n",
       "    </tr>\n",
       "    <tr>\n",
       "      <th>299</th>\n",
       "      <td>C0300</td>\n",
       "      <td>Carmen</td>\n",
       "      <td>Pérez</td>\n",
       "      <td>Aveiro, Portugal</td>\n",
       "    </tr>\n",
       "    <tr>\n",
       "      <th>21</th>\n",
       "      <td>C0022</td>\n",
       "      <td>María</td>\n",
       "      <td>Rodríguez</td>\n",
       "      <td>Aveiro, Portugal</td>\n",
       "    </tr>\n",
       "    <tr>\n",
       "      <th>58</th>\n",
       "      <td>C0059</td>\n",
       "      <td>Carmen</td>\n",
       "      <td>Sánchez</td>\n",
       "      <td>Sevilla, España</td>\n",
       "    </tr>\n",
       "    <tr>\n",
       "      <th>122</th>\n",
       "      <td>C0123</td>\n",
       "      <td>Ana</td>\n",
       "      <td>González</td>\n",
       "      <td>Toulouse, Francia</td>\n",
       "    </tr>\n",
       "  </tbody>\n",
       "</table>\n",
       "</div>"
      ],
      "text/plain": [
       "    id_cliente  nombre   apellido             ciudad\n",
       "5        C0006   Elena      López    Braga, Portugal\n",
       "299      C0300  Carmen      Pérez   Aveiro, Portugal\n",
       "21       C0022   María  Rodríguez   Aveiro, Portugal\n",
       "58       C0059  Carmen    Sánchez    Sevilla, España\n",
       "122      C0123     Ana   González  Toulouse, Francia"
      ]
     },
     "execution_count": 2,
     "metadata": {},
     "output_type": "execute_result"
    }
   ],
   "source": [
    "\n",
    "df_clientes=pd.read_csv('clientes.csv')\n",
    "df_clientes.sample(5)"
   ]
  },
  {
   "cell_type": "code",
   "execution_count": 3,
   "metadata": {},
   "outputs": [
    {
     "name": "stdout",
     "output_type": "stream",
     "text": [
      "<class 'pandas.core.frame.DataFrame'>\n",
      "RangeIndex: 300 entries, 0 to 299\n",
      "Data columns (total 4 columns):\n",
      " #   Column      Non-Null Count  Dtype \n",
      "---  ------      --------------  ----- \n",
      " 0   id_cliente  300 non-null    object\n",
      " 1   nombre      300 non-null    object\n",
      " 2   apellido    300 non-null    object\n",
      " 3   ciudad      300 non-null    object\n",
      "dtypes: object(4)\n",
      "memory usage: 9.5+ KB\n"
     ]
    }
   ],
   "source": [
    "df_clientes.info()"
   ]
  },
  {
   "cell_type": "code",
   "execution_count": 13,
   "metadata": {},
   "outputs": [
    {
     "data": {
      "text/plain": [
       "0"
      ]
     },
     "execution_count": 13,
     "metadata": {},
     "output_type": "execute_result"
    }
   ],
   "source": [
    "df_clientes.duplicated().sum()"
   ]
  },
  {
   "cell_type": "code",
   "execution_count": 4,
   "metadata": {},
   "outputs": [
    {
     "data": {
      "text/html": [
       "<div>\n",
       "<style scoped>\n",
       "    .dataframe tbody tr th:only-of-type {\n",
       "        vertical-align: middle;\n",
       "    }\n",
       "\n",
       "    .dataframe tbody tr th {\n",
       "        vertical-align: top;\n",
       "    }\n",
       "\n",
       "    .dataframe thead th {\n",
       "        text-align: right;\n",
       "    }\n",
       "</style>\n",
       "<table border=\"1\" class=\"dataframe\">\n",
       "  <thead>\n",
       "    <tr style=\"text-align: right;\">\n",
       "      <th></th>\n",
       "      <th>id_producto</th>\n",
       "      <th>precio</th>\n",
       "      <th>categoria</th>\n",
       "      <th>descripcion</th>\n",
       "    </tr>\n",
       "  </thead>\n",
       "  <tbody>\n",
       "    <tr>\n",
       "      <th>554</th>\n",
       "      <td>P0555</td>\n",
       "      <td>64.37 €</td>\n",
       "      <td>Books</td>\n",
       "      <td>NRiNdUaFhdL1wI2eDd7tzW29bMcogzbp3chVrCyph60jLu...</td>\n",
       "    </tr>\n",
       "    <tr>\n",
       "      <th>425</th>\n",
       "      <td>P0426</td>\n",
       "      <td>55.63 €</td>\n",
       "      <td>Electronics</td>\n",
       "      <td>aiK5iNl6oi5VktIIWD42bECYuU8wMjcX4ZodxdhLhB5BLd...</td>\n",
       "    </tr>\n",
       "    <tr>\n",
       "      <th>461</th>\n",
       "      <td>P0462</td>\n",
       "      <td>1.26 €</td>\n",
       "      <td>Books</td>\n",
       "      <td>0qPyzOBFfd3oKM4MHgu0P10A4ZLqyLyKPzLZPrUQWrmO6T...</td>\n",
       "    </tr>\n",
       "    <tr>\n",
       "      <th>268</th>\n",
       "      <td>P0269</td>\n",
       "      <td>74.18 €</td>\n",
       "      <td>Home &amp; Kitchen</td>\n",
       "      <td>ZPhbmFr3PyFOnFPlEKIWH4ZD10oIoX8Voqis8479iNsKVV...</td>\n",
       "    </tr>\n",
       "    <tr>\n",
       "      <th>433</th>\n",
       "      <td>P0434</td>\n",
       "      <td>70.52 €</td>\n",
       "      <td>Clothing</td>\n",
       "      <td>wcK3tVDpAv0p8vvW4GNPVyaYjpEs0FyrVRyEeNktmSviY1...</td>\n",
       "    </tr>\n",
       "  </tbody>\n",
       "</table>\n",
       "</div>"
      ],
      "text/plain": [
       "    id_producto   precio       categoria  \\\n",
       "554       P0555  64.37 €           Books   \n",
       "425       P0426  55.63 €     Electronics   \n",
       "461       P0462   1.26 €           Books   \n",
       "268       P0269  74.18 €  Home & Kitchen   \n",
       "433       P0434  70.52 €        Clothing   \n",
       "\n",
       "                                           descripcion  \n",
       "554  NRiNdUaFhdL1wI2eDd7tzW29bMcogzbp3chVrCyph60jLu...  \n",
       "425  aiK5iNl6oi5VktIIWD42bECYuU8wMjcX4ZodxdhLhB5BLd...  \n",
       "461  0qPyzOBFfd3oKM4MHgu0P10A4ZLqyLyKPzLZPrUQWrmO6T...  \n",
       "268  ZPhbmFr3PyFOnFPlEKIWH4ZD10oIoX8Voqis8479iNsKVV...  \n",
       "433  wcK3tVDpAv0p8vvW4GNPVyaYjpEs0FyrVRyEeNktmSviY1...  "
      ]
     },
     "execution_count": 4,
     "metadata": {},
     "output_type": "execute_result"
    }
   ],
   "source": [
    "df_productos=pd.read_csv('productos.csv')\n",
    "df_productos.sample(5)"
   ]
  },
  {
   "cell_type": "code",
   "execution_count": 14,
   "metadata": {},
   "outputs": [
    {
     "data": {
      "text/plain": [
       "0"
      ]
     },
     "execution_count": 14,
     "metadata": {},
     "output_type": "execute_result"
    }
   ],
   "source": [
    "df_productos.duplicated().sum()\n"
   ]
  },
  {
   "cell_type": "code",
   "execution_count": 5,
   "metadata": {},
   "outputs": [
    {
     "name": "stdout",
     "output_type": "stream",
     "text": [
      "<class 'pandas.core.frame.DataFrame'>\n",
      "RangeIndex: 600 entries, 0 to 599\n",
      "Data columns (total 4 columns):\n",
      " #   Column       Non-Null Count  Dtype \n",
      "---  ------       --------------  ----- \n",
      " 0   id_producto  600 non-null    object\n",
      " 1   precio       600 non-null    object\n",
      " 2   categoria    600 non-null    object\n",
      " 3   descripcion  600 non-null    object\n",
      "dtypes: object(4)\n",
      "memory usage: 18.9+ KB\n"
     ]
    }
   ],
   "source": [
    "df_productos.info()"
   ]
  },
  {
   "cell_type": "code",
   "execution_count": 6,
   "metadata": {},
   "outputs": [
    {
     "data": {
      "text/html": [
       "<div>\n",
       "<style scoped>\n",
       "    .dataframe tbody tr th:only-of-type {\n",
       "        vertical-align: middle;\n",
       "    }\n",
       "\n",
       "    .dataframe tbody tr th {\n",
       "        vertical-align: top;\n",
       "    }\n",
       "\n",
       "    .dataframe thead th {\n",
       "        text-align: right;\n",
       "    }\n",
       "</style>\n",
       "<table border=\"1\" class=\"dataframe\">\n",
       "  <thead>\n",
       "    <tr style=\"text-align: right;\">\n",
       "      <th></th>\n",
       "      <th>id_venta</th>\n",
       "      <th>id_producto</th>\n",
       "      <th>cantidad</th>\n",
       "      <th>fecha</th>\n",
       "      <th>id_cliente</th>\n",
       "    </tr>\n",
       "  </thead>\n",
       "  <tbody>\n",
       "    <tr>\n",
       "      <th>55683</th>\n",
       "      <td>V004084</td>\n",
       "      <td>P0040</td>\n",
       "      <td>5</td>\n",
       "      <td>2023-05-24</td>\n",
       "      <td>C0076</td>\n",
       "    </tr>\n",
       "    <tr>\n",
       "      <th>76165</th>\n",
       "      <td>V002669</td>\n",
       "      <td>P0258</td>\n",
       "      <td>6</td>\n",
       "      <td>2021-01-23</td>\n",
       "      <td>C0211</td>\n",
       "    </tr>\n",
       "    <tr>\n",
       "      <th>41479</th>\n",
       "      <td>V000658</td>\n",
       "      <td>P0003</td>\n",
       "      <td>7</td>\n",
       "      <td>2022-07-18</td>\n",
       "      <td>C0248</td>\n",
       "    </tr>\n",
       "    <tr>\n",
       "      <th>53978</th>\n",
       "      <td>V000069</td>\n",
       "      <td>P0163</td>\n",
       "      <td>4</td>\n",
       "      <td>2021-01-27</td>\n",
       "      <td>C0074</td>\n",
       "    </tr>\n",
       "    <tr>\n",
       "      <th>7166</th>\n",
       "      <td>V005240</td>\n",
       "      <td>P0180</td>\n",
       "      <td>8</td>\n",
       "      <td>2023-10-12</td>\n",
       "      <td>C0067</td>\n",
       "    </tr>\n",
       "  </tbody>\n",
       "</table>\n",
       "</div>"
      ],
      "text/plain": [
       "      id_venta id_producto  cantidad       fecha id_cliente\n",
       "55683  V004084       P0040         5  2023-05-24      C0076\n",
       "76165  V002669       P0258         6  2021-01-23      C0211\n",
       "41479  V000658       P0003         7  2022-07-18      C0248\n",
       "53978  V000069       P0163         4  2021-01-27      C0074\n",
       "7166   V005240       P0180         8  2023-10-12      C0067"
      ]
     },
     "execution_count": 6,
     "metadata": {},
     "output_type": "execute_result"
    }
   ],
   "source": [
    "df_ventas=pd.read_csv('ventas.csv')\n",
    "df_ventas.sample(5)"
   ]
  },
  {
   "cell_type": "code",
   "execution_count": 7,
   "metadata": {},
   "outputs": [
    {
     "name": "stdout",
     "output_type": "stream",
     "text": [
      "<class 'pandas.core.frame.DataFrame'>\n",
      "RangeIndex: 80000 entries, 0 to 79999\n",
      "Data columns (total 5 columns):\n",
      " #   Column       Non-Null Count  Dtype \n",
      "---  ------       --------------  ----- \n",
      " 0   id_venta     80000 non-null  object\n",
      " 1   id_producto  80000 non-null  object\n",
      " 2   cantidad     80000 non-null  int64 \n",
      " 3   fecha        80000 non-null  object\n",
      " 4   id_cliente   80000 non-null  object\n",
      "dtypes: int64(1), object(4)\n",
      "memory usage: 3.1+ MB\n"
     ]
    }
   ],
   "source": [
    "df_ventas.info()"
   ]
  },
  {
   "cell_type": "code",
   "execution_count": 16,
   "metadata": {},
   "outputs": [
    {
     "data": {
      "text/plain": [
       "80"
      ]
     },
     "execution_count": 16,
     "metadata": {},
     "output_type": "execute_result"
    }
   ],
   "source": [
    "df_ventas.duplicated().sum()"
   ]
  },
  {
   "cell_type": "markdown",
   "metadata": {},
   "source": [
    "Pasaremos todos los datos a un solo dataframe:"
   ]
  },
  {
   "cell_type": "code",
   "execution_count": 26,
   "metadata": {},
   "outputs": [],
   "source": [
    "merge1_dfs=df_ventas.merge(df_clientes, on =\"id_cliente\")"
   ]
  },
  {
   "cell_type": "code",
   "execution_count": 27,
   "metadata": {},
   "outputs": [
    {
     "data": {
      "text/html": [
       "<div>\n",
       "<style scoped>\n",
       "    .dataframe tbody tr th:only-of-type {\n",
       "        vertical-align: middle;\n",
       "    }\n",
       "\n",
       "    .dataframe tbody tr th {\n",
       "        vertical-align: top;\n",
       "    }\n",
       "\n",
       "    .dataframe thead th {\n",
       "        text-align: right;\n",
       "    }\n",
       "</style>\n",
       "<table border=\"1\" class=\"dataframe\">\n",
       "  <thead>\n",
       "    <tr style=\"text-align: right;\">\n",
       "      <th></th>\n",
       "      <th>id_venta</th>\n",
       "      <th>id_producto</th>\n",
       "      <th>cantidad</th>\n",
       "      <th>fecha</th>\n",
       "      <th>id_cliente</th>\n",
       "      <th>nombre</th>\n",
       "      <th>apellido</th>\n",
       "      <th>ciudad</th>\n",
       "    </tr>\n",
       "  </thead>\n",
       "  <tbody>\n",
       "    <tr>\n",
       "      <th>0</th>\n",
       "      <td>V004849</td>\n",
       "      <td>P0173</td>\n",
       "      <td>4</td>\n",
       "      <td>2024-05-16</td>\n",
       "      <td>C0203</td>\n",
       "      <td>Lucía</td>\n",
       "      <td>González</td>\n",
       "      <td>Niza, Francia</td>\n",
       "    </tr>\n",
       "    <tr>\n",
       "      <th>1</th>\n",
       "      <td>V003181</td>\n",
       "      <td>P0165</td>\n",
       "      <td>9</td>\n",
       "      <td>2022-09-12</td>\n",
       "      <td>C0004</td>\n",
       "      <td>Marta</td>\n",
       "      <td>López</td>\n",
       "      <td>Valencia, España</td>\n",
       "    </tr>\n",
       "    <tr>\n",
       "      <th>2</th>\n",
       "      <td>V000311</td>\n",
       "      <td>P0194</td>\n",
       "      <td>10</td>\n",
       "      <td>2020-12-02</td>\n",
       "      <td>C0156</td>\n",
       "      <td>Sofía</td>\n",
       "      <td>Sánchez</td>\n",
       "      <td>Santander, España</td>\n",
       "    </tr>\n",
       "    <tr>\n",
       "      <th>3</th>\n",
       "      <td>V002787</td>\n",
       "      <td>P0167</td>\n",
       "      <td>1</td>\n",
       "      <td>2023-07-22</td>\n",
       "      <td>C0058</td>\n",
       "      <td>Clara</td>\n",
       "      <td>Hernández</td>\n",
       "      <td>Barcelona, España</td>\n",
       "    </tr>\n",
       "    <tr>\n",
       "      <th>4</th>\n",
       "      <td>V002726</td>\n",
       "      <td>P0417</td>\n",
       "      <td>10</td>\n",
       "      <td>2022-04-10</td>\n",
       "      <td>C0099</td>\n",
       "      <td>Elena</td>\n",
       "      <td>García</td>\n",
       "      <td>Lisboa, Portugal</td>\n",
       "    </tr>\n",
       "  </tbody>\n",
       "</table>\n",
       "</div>"
      ],
      "text/plain": [
       "  id_venta id_producto  cantidad       fecha id_cliente nombre   apellido  \\\n",
       "0  V004849       P0173         4  2024-05-16      C0203  Lucía   González   \n",
       "1  V003181       P0165         9  2022-09-12      C0004  Marta      López   \n",
       "2  V000311       P0194        10  2020-12-02      C0156  Sofía    Sánchez   \n",
       "3  V002787       P0167         1  2023-07-22      C0058  Clara  Hernández   \n",
       "4  V002726       P0417        10  2022-04-10      C0099  Elena     García   \n",
       "\n",
       "              ciudad  \n",
       "0      Niza, Francia  \n",
       "1   Valencia, España  \n",
       "2  Santander, España  \n",
       "3  Barcelona, España  \n",
       "4   Lisboa, Portugal  "
      ]
     },
     "execution_count": 27,
     "metadata": {},
     "output_type": "execute_result"
    }
   ],
   "source": [
    "merge1_dfs.head()"
   ]
  },
  {
   "cell_type": "code",
   "execution_count": 28,
   "metadata": {},
   "outputs": [],
   "source": [
    "merge2_dfs=merge1_dfs.merge(df_productos, on=\"id_producto\")"
   ]
  },
  {
   "cell_type": "code",
   "execution_count": 29,
   "metadata": {},
   "outputs": [
    {
     "data": {
      "text/html": [
       "<div>\n",
       "<style scoped>\n",
       "    .dataframe tbody tr th:only-of-type {\n",
       "        vertical-align: middle;\n",
       "    }\n",
       "\n",
       "    .dataframe tbody tr th {\n",
       "        vertical-align: top;\n",
       "    }\n",
       "\n",
       "    .dataframe thead th {\n",
       "        text-align: right;\n",
       "    }\n",
       "</style>\n",
       "<table border=\"1\" class=\"dataframe\">\n",
       "  <thead>\n",
       "    <tr style=\"text-align: right;\">\n",
       "      <th></th>\n",
       "      <th>id_venta</th>\n",
       "      <th>id_producto</th>\n",
       "      <th>cantidad</th>\n",
       "      <th>fecha</th>\n",
       "      <th>id_cliente</th>\n",
       "      <th>nombre</th>\n",
       "      <th>apellido</th>\n",
       "      <th>ciudad</th>\n",
       "      <th>precio</th>\n",
       "      <th>categoria</th>\n",
       "      <th>descripcion</th>\n",
       "    </tr>\n",
       "  </thead>\n",
       "  <tbody>\n",
       "    <tr>\n",
       "      <th>0</th>\n",
       "      <td>V004849</td>\n",
       "      <td>P0173</td>\n",
       "      <td>4</td>\n",
       "      <td>2024-05-16</td>\n",
       "      <td>C0203</td>\n",
       "      <td>Lucía</td>\n",
       "      <td>González</td>\n",
       "      <td>Niza, Francia</td>\n",
       "      <td>58.91 €</td>\n",
       "      <td>Books</td>\n",
       "      <td>UASpWkt14nzeB6fkBDwO42wQiCijnSTcizwW1eB1yy0Rmy...</td>\n",
       "    </tr>\n",
       "    <tr>\n",
       "      <th>1</th>\n",
       "      <td>V003181</td>\n",
       "      <td>P0165</td>\n",
       "      <td>9</td>\n",
       "      <td>2022-09-12</td>\n",
       "      <td>C0004</td>\n",
       "      <td>Marta</td>\n",
       "      <td>López</td>\n",
       "      <td>Valencia, España</td>\n",
       "      <td>93.20 €</td>\n",
       "      <td>Books</td>\n",
       "      <td>Wk3wS8V6kUhy0nWnknaaSiS3oQJkfAf8pOK0GAbRqMwQ3L...</td>\n",
       "    </tr>\n",
       "    <tr>\n",
       "      <th>2</th>\n",
       "      <td>V000311</td>\n",
       "      <td>P0194</td>\n",
       "      <td>10</td>\n",
       "      <td>2020-12-02</td>\n",
       "      <td>C0156</td>\n",
       "      <td>Sofía</td>\n",
       "      <td>Sánchez</td>\n",
       "      <td>Santander, España</td>\n",
       "      <td>43.38 €</td>\n",
       "      <td>Clothing</td>\n",
       "      <td>eOnRpP74GAXrDk8UMb6QgmSJscSgpT9B5B9C1PA1TB9Xc5...</td>\n",
       "    </tr>\n",
       "    <tr>\n",
       "      <th>3</th>\n",
       "      <td>V002787</td>\n",
       "      <td>P0167</td>\n",
       "      <td>1</td>\n",
       "      <td>2023-07-22</td>\n",
       "      <td>C0058</td>\n",
       "      <td>Clara</td>\n",
       "      <td>Hernández</td>\n",
       "      <td>Barcelona, España</td>\n",
       "      <td>88.17 €</td>\n",
       "      <td>Sports &amp; Outdoors</td>\n",
       "      <td>y8Efq93OmWZtzYYgcAN3Mw5xQmiwA0hj7AIzQ8Mqba5oYK...</td>\n",
       "    </tr>\n",
       "    <tr>\n",
       "      <th>4</th>\n",
       "      <td>V002726</td>\n",
       "      <td>P0417</td>\n",
       "      <td>10</td>\n",
       "      <td>2022-04-10</td>\n",
       "      <td>C0099</td>\n",
       "      <td>Elena</td>\n",
       "      <td>García</td>\n",
       "      <td>Lisboa, Portugal</td>\n",
       "      <td>60.69 €</td>\n",
       "      <td>Books</td>\n",
       "      <td>EmQk26vUd7mOMAKQHwUVk1Qm4rwUZC1vHOBk9pqI565P7v...</td>\n",
       "    </tr>\n",
       "  </tbody>\n",
       "</table>\n",
       "</div>"
      ],
      "text/plain": [
       "  id_venta id_producto  cantidad       fecha id_cliente nombre   apellido  \\\n",
       "0  V004849       P0173         4  2024-05-16      C0203  Lucía   González   \n",
       "1  V003181       P0165         9  2022-09-12      C0004  Marta      López   \n",
       "2  V000311       P0194        10  2020-12-02      C0156  Sofía    Sánchez   \n",
       "3  V002787       P0167         1  2023-07-22      C0058  Clara  Hernández   \n",
       "4  V002726       P0417        10  2022-04-10      C0099  Elena     García   \n",
       "\n",
       "              ciudad   precio          categoria  \\\n",
       "0      Niza, Francia  58.91 €              Books   \n",
       "1   Valencia, España  93.20 €              Books   \n",
       "2  Santander, España  43.38 €           Clothing   \n",
       "3  Barcelona, España  88.17 €  Sports & Outdoors   \n",
       "4   Lisboa, Portugal  60.69 €              Books   \n",
       "\n",
       "                                         descripcion  \n",
       "0  UASpWkt14nzeB6fkBDwO42wQiCijnSTcizwW1eB1yy0Rmy...  \n",
       "1  Wk3wS8V6kUhy0nWnknaaSiS3oQJkfAf8pOK0GAbRqMwQ3L...  \n",
       "2  eOnRpP74GAXrDk8UMb6QgmSJscSgpT9B5B9C1PA1TB9Xc5...  \n",
       "3  y8Efq93OmWZtzYYgcAN3Mw5xQmiwA0hj7AIzQ8Mqba5oYK...  \n",
       "4  EmQk26vUd7mOMAKQHwUVk1Qm4rwUZC1vHOBk9pqI565P7v...  "
      ]
     },
     "execution_count": 29,
     "metadata": {},
     "output_type": "execute_result"
    }
   ],
   "source": [
    "merge2_dfs.head()"
   ]
  },
  {
   "cell_type": "code",
   "execution_count": 30,
   "metadata": {},
   "outputs": [
    {
     "name": "stdout",
     "output_type": "stream",
     "text": [
      "<class 'pandas.core.frame.DataFrame'>\n",
      "RangeIndex: 80000 entries, 0 to 79999\n",
      "Data columns (total 11 columns):\n",
      " #   Column       Non-Null Count  Dtype \n",
      "---  ------       --------------  ----- \n",
      " 0   id_venta     80000 non-null  object\n",
      " 1   id_producto  80000 non-null  object\n",
      " 2   cantidad     80000 non-null  int64 \n",
      " 3   fecha        80000 non-null  object\n",
      " 4   id_cliente   80000 non-null  object\n",
      " 5   nombre       80000 non-null  object\n",
      " 6   apellido     80000 non-null  object\n",
      " 7   ciudad       80000 non-null  object\n",
      " 8   precio       80000 non-null  object\n",
      " 9   categoria    80000 non-null  object\n",
      " 10  descripcion  80000 non-null  object\n",
      "dtypes: int64(1), object(10)\n",
      "memory usage: 6.7+ MB\n"
     ]
    }
   ],
   "source": [
    "merge2_dfs.info()"
   ]
  },
  {
   "cell_type": "code",
   "execution_count": 31,
   "metadata": {},
   "outputs": [
    {
     "data": {
      "text/html": [
       "<div>\n",
       "<style scoped>\n",
       "    .dataframe tbody tr th:only-of-type {\n",
       "        vertical-align: middle;\n",
       "    }\n",
       "\n",
       "    .dataframe tbody tr th {\n",
       "        vertical-align: top;\n",
       "    }\n",
       "\n",
       "    .dataframe thead th {\n",
       "        text-align: right;\n",
       "    }\n",
       "</style>\n",
       "<table border=\"1\" class=\"dataframe\">\n",
       "  <thead>\n",
       "    <tr style=\"text-align: right;\">\n",
       "      <th></th>\n",
       "      <th>id_venta</th>\n",
       "      <th>id_producto</th>\n",
       "      <th>cantidad</th>\n",
       "      <th>fecha</th>\n",
       "      <th>id_cliente</th>\n",
       "      <th>nombre</th>\n",
       "      <th>apellido</th>\n",
       "      <th>ciudad</th>\n",
       "      <th>precio</th>\n",
       "      <th>categoria</th>\n",
       "      <th>descripcion</th>\n",
       "      <th>pais</th>\n",
       "    </tr>\n",
       "  </thead>\n",
       "  <tbody>\n",
       "    <tr>\n",
       "      <th>0</th>\n",
       "      <td>V004849</td>\n",
       "      <td>P0173</td>\n",
       "      <td>4</td>\n",
       "      <td>2024-05-16</td>\n",
       "      <td>C0203</td>\n",
       "      <td>Lucía</td>\n",
       "      <td>González</td>\n",
       "      <td>Niza</td>\n",
       "      <td>58.91 €</td>\n",
       "      <td>Books</td>\n",
       "      <td>UASpWkt14nzeB6fkBDwO42wQiCijnSTcizwW1eB1yy0Rmy...</td>\n",
       "      <td>Francia</td>\n",
       "    </tr>\n",
       "  </tbody>\n",
       "</table>\n",
       "</div>"
      ],
      "text/plain": [
       "  id_venta id_producto  cantidad       fecha id_cliente nombre  apellido  \\\n",
       "0  V004849       P0173         4  2024-05-16      C0203  Lucía  González   \n",
       "\n",
       "  ciudad   precio categoria  \\\n",
       "0   Niza  58.91 €     Books   \n",
       "\n",
       "                                         descripcion     pais  \n",
       "0  UASpWkt14nzeB6fkBDwO42wQiCijnSTcizwW1eB1yy0Rmy...  Francia  "
      ]
     },
     "execution_count": 31,
     "metadata": {},
     "output_type": "execute_result"
    }
   ],
   "source": [
    "#Vamos a separarcolumnas siguiendo el proceso de normalizacion de una tabla:\n",
    "#Separaremos la columna ciudad en dos: ciudad y país.\n",
    "merge2_dfs[['ciudad','pais']]=merge2_dfs.ciudad.str.split(', ', expand=True)\n",
    "merge2_dfs.head(1)"
   ]
  },
  {
   "cell_type": "code",
   "execution_count": 33,
   "metadata": {},
   "outputs": [
    {
     "data": {
      "text/html": [
       "<div>\n",
       "<style scoped>\n",
       "    .dataframe tbody tr th:only-of-type {\n",
       "        vertical-align: middle;\n",
       "    }\n",
       "\n",
       "    .dataframe tbody tr th {\n",
       "        vertical-align: top;\n",
       "    }\n",
       "\n",
       "    .dataframe thead th {\n",
       "        text-align: right;\n",
       "    }\n",
       "</style>\n",
       "<table border=\"1\" class=\"dataframe\">\n",
       "  <thead>\n",
       "    <tr style=\"text-align: right;\">\n",
       "      <th></th>\n",
       "      <th>id_venta</th>\n",
       "      <th>id_producto</th>\n",
       "      <th>cantidad</th>\n",
       "      <th>fecha</th>\n",
       "      <th>id_cliente</th>\n",
       "      <th>nombre</th>\n",
       "      <th>apellido</th>\n",
       "      <th>ciudad</th>\n",
       "      <th>precio</th>\n",
       "      <th>categoria</th>\n",
       "      <th>descripcion</th>\n",
       "      <th>pais</th>\n",
       "    </tr>\n",
       "  </thead>\n",
       "  <tbody>\n",
       "    <tr>\n",
       "      <th>0</th>\n",
       "      <td>V004849</td>\n",
       "      <td>P0173</td>\n",
       "      <td>4</td>\n",
       "      <td>2024-05-16</td>\n",
       "      <td>C0203</td>\n",
       "      <td>Lucía</td>\n",
       "      <td>González</td>\n",
       "      <td>Niza</td>\n",
       "      <td>58.91</td>\n",
       "      <td>Books</td>\n",
       "      <td>UASpWkt14nzeB6fkBDwO42wQiCijnSTcizwW1eB1yy0Rmy...</td>\n",
       "      <td>Francia</td>\n",
       "    </tr>\n",
       "  </tbody>\n",
       "</table>\n",
       "</div>"
      ],
      "text/plain": [
       "  id_venta id_producto  cantidad       fecha id_cliente nombre  apellido  \\\n",
       "0  V004849       P0173         4  2024-05-16      C0203  Lucía  González   \n",
       "\n",
       "  ciudad  precio categoria                                        descripcion  \\\n",
       "0   Niza  58.91      Books  UASpWkt14nzeB6fkBDwO42wQiCijnSTcizwW1eB1yy0Rmy...   \n",
       "\n",
       "      pais  \n",
       "0  Francia  "
      ]
     },
     "execution_count": 33,
     "metadata": {},
     "output_type": "execute_result"
    }
   ],
   "source": [
    "#separaremos '€' de la columna precios y ccambiaremos su tipo de valor a float.\n",
    "merge2_dfs.precio=merge2_dfs.precio.str.replace('€','')\n",
    "merge2_dfs.head(1)"
   ]
  },
  {
   "cell_type": "code",
   "execution_count": 34,
   "metadata": {},
   "outputs": [],
   "source": [
    "merge2_dfs.precio=merge2_dfs.precio.astype(float)"
   ]
  },
  {
   "cell_type": "code",
   "execution_count": 36,
   "metadata": {},
   "outputs": [
    {
     "name": "stdout",
     "output_type": "stream",
     "text": [
      "<class 'pandas.core.frame.DataFrame'>\n",
      "RangeIndex: 80000 entries, 0 to 79999\n",
      "Data columns (total 12 columns):\n",
      " #   Column       Non-Null Count  Dtype  \n",
      "---  ------       --------------  -----  \n",
      " 0   id_venta     80000 non-null  object \n",
      " 1   id_producto  80000 non-null  object \n",
      " 2   cantidad     80000 non-null  int64  \n",
      " 3   fecha        80000 non-null  object \n",
      " 4   id_cliente   80000 non-null  object \n",
      " 5   nombre       80000 non-null  object \n",
      " 6   apellido     80000 non-null  object \n",
      " 7   ciudad       80000 non-null  object \n",
      " 8   precio       80000 non-null  float64\n",
      " 9   categoria    80000 non-null  object \n",
      " 10  descripcion  80000 non-null  object \n",
      " 11  pais         80000 non-null  object \n",
      "dtypes: float64(1), int64(1), object(10)\n",
      "memory usage: 7.3+ MB\n"
     ]
    }
   ],
   "source": [
    "merge2_dfs.info()"
   ]
  },
  {
   "cell_type": "code",
   "execution_count": 37,
   "metadata": {},
   "outputs": [],
   "source": [
    "#Procedemos a guardar el df _limpio:\n",
    "merge2_dfs.to_csv('clientes_productos_ventas.csv')"
   ]
  },
  {
   "cell_type": "code",
   "execution_count": 38,
   "metadata": {},
   "outputs": [
    {
     "data": {
      "text/plain": [
       "80"
      ]
     },
     "execution_count": 38,
     "metadata": {},
     "output_type": "execute_result"
    }
   ],
   "source": [
    "#Revisamos las filas duplicadas:\n",
    "merge2_dfs.duplicated().sum()"
   ]
  },
  {
   "cell_type": "code",
   "execution_count": 50,
   "metadata": {},
   "outputs": [
    {
     "data": {
      "text/html": [
       "<div>\n",
       "<style scoped>\n",
       "    .dataframe tbody tr th:only-of-type {\n",
       "        vertical-align: middle;\n",
       "    }\n",
       "\n",
       "    .dataframe tbody tr th {\n",
       "        vertical-align: top;\n",
       "    }\n",
       "\n",
       "    .dataframe thead th {\n",
       "        text-align: right;\n",
       "    }\n",
       "</style>\n",
       "<table border=\"1\" class=\"dataframe\">\n",
       "  <thead>\n",
       "    <tr style=\"text-align: right;\">\n",
       "      <th></th>\n",
       "      <th>id_venta</th>\n",
       "      <th>id_producto</th>\n",
       "      <th>cantidad</th>\n",
       "      <th>fecha</th>\n",
       "      <th>id_cliente</th>\n",
       "      <th>nombre</th>\n",
       "      <th>apellido</th>\n",
       "      <th>ciudad</th>\n",
       "      <th>precio</th>\n",
       "      <th>categoria</th>\n",
       "      <th>descripcion</th>\n",
       "      <th>pais</th>\n",
       "    </tr>\n",
       "  </thead>\n",
       "  <tbody>\n",
       "    <tr>\n",
       "      <th>6694</th>\n",
       "      <td>V004648</td>\n",
       "      <td>P0434</td>\n",
       "      <td>5</td>\n",
       "      <td>2021-06-28</td>\n",
       "      <td>C0263</td>\n",
       "      <td>Lucía</td>\n",
       "      <td>Martínez</td>\n",
       "      <td>Madrid</td>\n",
       "      <td>70.52</td>\n",
       "      <td>Clothing</td>\n",
       "      <td>wcK3tVDpAv0p8vvW4GNPVyaYjpEs0FyrVRyEeNktmSviY1...</td>\n",
       "      <td>España</td>\n",
       "    </tr>\n",
       "    <tr>\n",
       "      <th>8773</th>\n",
       "      <td>V001670</td>\n",
       "      <td>P0483</td>\n",
       "      <td>4</td>\n",
       "      <td>2020-07-31</td>\n",
       "      <td>C0017</td>\n",
       "      <td>Clara</td>\n",
       "      <td>Sánchez</td>\n",
       "      <td>Marsella</td>\n",
       "      <td>77.83</td>\n",
       "      <td>Home &amp; Kitchen</td>\n",
       "      <td>jflLzAkMBvyatpYaNHJ4KOxbh4t93TJXEEGevQsO1yZGD8...</td>\n",
       "      <td>Francia</td>\n",
       "    </tr>\n",
       "    <tr>\n",
       "      <th>10797</th>\n",
       "      <td>V004342</td>\n",
       "      <td>P0336</td>\n",
       "      <td>3</td>\n",
       "      <td>2020-05-27</td>\n",
       "      <td>C0267</td>\n",
       "      <td>Marta</td>\n",
       "      <td>García</td>\n",
       "      <td>Lyon</td>\n",
       "      <td>39.91</td>\n",
       "      <td>Electronics</td>\n",
       "      <td>RNyX4ZO4vC3AdnyYKALRekQ0aT9U4KRg4z6TJ4frasnA4n...</td>\n",
       "      <td>Francia</td>\n",
       "    </tr>\n",
       "    <tr>\n",
       "      <th>10967</th>\n",
       "      <td>V004143</td>\n",
       "      <td>P0373</td>\n",
       "      <td>4</td>\n",
       "      <td>2021-11-18</td>\n",
       "      <td>C0300</td>\n",
       "      <td>Carmen</td>\n",
       "      <td>Pérez</td>\n",
       "      <td>Aveiro</td>\n",
       "      <td>95.81</td>\n",
       "      <td>Electronics</td>\n",
       "      <td>1VNUbcDk2e1sBXHN4m3MDXN4DlpmxUVswxgeZChaJviGfi...</td>\n",
       "      <td>Portugal</td>\n",
       "    </tr>\n",
       "    <tr>\n",
       "      <th>12262</th>\n",
       "      <td>V003463</td>\n",
       "      <td>P0181</td>\n",
       "      <td>6</td>\n",
       "      <td>2021-06-16</td>\n",
       "      <td>C0070</td>\n",
       "      <td>Clara</td>\n",
       "      <td>González</td>\n",
       "      <td>Niza</td>\n",
       "      <td>54.23</td>\n",
       "      <td>Sports &amp; Outdoors</td>\n",
       "      <td>eyWG0Leb7IRmrdS59tRRm1sKAiVCMBd75wS2QzBl84trpC...</td>\n",
       "      <td>Francia</td>\n",
       "    </tr>\n",
       "    <tr>\n",
       "      <th>...</th>\n",
       "      <td>...</td>\n",
       "      <td>...</td>\n",
       "      <td>...</td>\n",
       "      <td>...</td>\n",
       "      <td>...</td>\n",
       "      <td>...</td>\n",
       "      <td>...</td>\n",
       "      <td>...</td>\n",
       "      <td>...</td>\n",
       "      <td>...</td>\n",
       "      <td>...</td>\n",
       "      <td>...</td>\n",
       "    </tr>\n",
       "    <tr>\n",
       "      <th>78821</th>\n",
       "      <td>V004712</td>\n",
       "      <td>P0307</td>\n",
       "      <td>7</td>\n",
       "      <td>2023-09-29</td>\n",
       "      <td>C0076</td>\n",
       "      <td>Lucía</td>\n",
       "      <td>Fernández</td>\n",
       "      <td>Marsella</td>\n",
       "      <td>22.60</td>\n",
       "      <td>Clothing</td>\n",
       "      <td>3xTOqUESd3Qp23tayHPapw8KDAMV05UJO6eCdTiysnXK8o...</td>\n",
       "      <td>Francia</td>\n",
       "    </tr>\n",
       "    <tr>\n",
       "      <th>79104</th>\n",
       "      <td>V004713</td>\n",
       "      <td>P0559</td>\n",
       "      <td>10</td>\n",
       "      <td>2020-03-16</td>\n",
       "      <td>C0046</td>\n",
       "      <td>Sofía</td>\n",
       "      <td>García</td>\n",
       "      <td>Coímbra</td>\n",
       "      <td>21.00</td>\n",
       "      <td>Clothing</td>\n",
       "      <td>R6lnb9VpZjdEOgaqBFmM8Ep9qFZNvbmHpid9EzWeDBcU9Q...</td>\n",
       "      <td>Portugal</td>\n",
       "    </tr>\n",
       "    <tr>\n",
       "      <th>79439</th>\n",
       "      <td>V006831</td>\n",
       "      <td>P0263</td>\n",
       "      <td>2</td>\n",
       "      <td>2022-10-30</td>\n",
       "      <td>C0168</td>\n",
       "      <td>Laura</td>\n",
       "      <td>Rodríguez</td>\n",
       "      <td>Aveiro</td>\n",
       "      <td>70.09</td>\n",
       "      <td>Home &amp; Kitchen</td>\n",
       "      <td>FcGvMZ203DzyFTi0TpCBRR02OYTh41XG5VRDWtGFhXGOtL...</td>\n",
       "      <td>Portugal</td>\n",
       "    </tr>\n",
       "    <tr>\n",
       "      <th>79734</th>\n",
       "      <td>V003482</td>\n",
       "      <td>P0388</td>\n",
       "      <td>7</td>\n",
       "      <td>2023-07-22</td>\n",
       "      <td>C0099</td>\n",
       "      <td>Elena</td>\n",
       "      <td>García</td>\n",
       "      <td>Lisboa</td>\n",
       "      <td>55.68</td>\n",
       "      <td>Home &amp; Kitchen</td>\n",
       "      <td>pWfy0gos00PX6DmAnKfZjocjE85h8SFHOytpvFiIloWtoL...</td>\n",
       "      <td>Portugal</td>\n",
       "    </tr>\n",
       "    <tr>\n",
       "      <th>79962</th>\n",
       "      <td>V000454</td>\n",
       "      <td>P0193</td>\n",
       "      <td>9</td>\n",
       "      <td>2023-11-16</td>\n",
       "      <td>C0032</td>\n",
       "      <td>Laura</td>\n",
       "      <td>López</td>\n",
       "      <td>Barcelona</td>\n",
       "      <td>41.32</td>\n",
       "      <td>Clothing</td>\n",
       "      <td>SgRLGH75Me2tlGSfkfgUUrB2FWQRDbdh9eIgXULBADVvN6...</td>\n",
       "      <td>España</td>\n",
       "    </tr>\n",
       "  </tbody>\n",
       "</table>\n",
       "<p>80 rows × 12 columns</p>\n",
       "</div>"
      ],
      "text/plain": [
       "      id_venta id_producto  cantidad       fecha id_cliente  nombre  \\\n",
       "6694   V004648       P0434         5  2021-06-28      C0263   Lucía   \n",
       "8773   V001670       P0483         4  2020-07-31      C0017   Clara   \n",
       "10797  V004342       P0336         3  2020-05-27      C0267   Marta   \n",
       "10967  V004143       P0373         4  2021-11-18      C0300  Carmen   \n",
       "12262  V003463       P0181         6  2021-06-16      C0070   Clara   \n",
       "...        ...         ...       ...         ...        ...     ...   \n",
       "78821  V004712       P0307         7  2023-09-29      C0076   Lucía   \n",
       "79104  V004713       P0559        10  2020-03-16      C0046   Sofía   \n",
       "79439  V006831       P0263         2  2022-10-30      C0168   Laura   \n",
       "79734  V003482       P0388         7  2023-07-22      C0099   Elena   \n",
       "79962  V000454       P0193         9  2023-11-16      C0032   Laura   \n",
       "\n",
       "        apellido     ciudad  precio          categoria  \\\n",
       "6694    Martínez     Madrid   70.52           Clothing   \n",
       "8773     Sánchez   Marsella   77.83     Home & Kitchen   \n",
       "10797     García       Lyon   39.91        Electronics   \n",
       "10967      Pérez     Aveiro   95.81        Electronics   \n",
       "12262   González       Niza   54.23  Sports & Outdoors   \n",
       "...          ...        ...     ...                ...   \n",
       "78821  Fernández   Marsella   22.60           Clothing   \n",
       "79104     García    Coímbra   21.00           Clothing   \n",
       "79439  Rodríguez     Aveiro   70.09     Home & Kitchen   \n",
       "79734     García     Lisboa   55.68     Home & Kitchen   \n",
       "79962      López  Barcelona   41.32           Clothing   \n",
       "\n",
       "                                             descripcion      pais  \n",
       "6694   wcK3tVDpAv0p8vvW4GNPVyaYjpEs0FyrVRyEeNktmSviY1...    España  \n",
       "8773   jflLzAkMBvyatpYaNHJ4KOxbh4t93TJXEEGevQsO1yZGD8...   Francia  \n",
       "10797  RNyX4ZO4vC3AdnyYKALRekQ0aT9U4KRg4z6TJ4frasnA4n...   Francia  \n",
       "10967  1VNUbcDk2e1sBXHN4m3MDXN4DlpmxUVswxgeZChaJviGfi...  Portugal  \n",
       "12262  eyWG0Leb7IRmrdS59tRRm1sKAiVCMBd75wS2QzBl84trpC...   Francia  \n",
       "...                                                  ...       ...  \n",
       "78821  3xTOqUESd3Qp23tayHPapw8KDAMV05UJO6eCdTiysnXK8o...   Francia  \n",
       "79104  R6lnb9VpZjdEOgaqBFmM8Ep9qFZNvbmHpid9EzWeDBcU9Q...  Portugal  \n",
       "79439  FcGvMZ203DzyFTi0TpCBRR02OYTh41XG5VRDWtGFhXGOtL...  Portugal  \n",
       "79734  pWfy0gos00PX6DmAnKfZjocjE85h8SFHOytpvFiIloWtoL...  Portugal  \n",
       "79962  SgRLGH75Me2tlGSfkfgUUrB2FWQRDbdh9eIgXULBADVvN6...    España  \n",
       "\n",
       "[80 rows x 12 columns]"
      ]
     },
     "execution_count": 50,
     "metadata": {},
     "output_type": "execute_result"
    }
   ],
   "source": [
    "#Queremos saber cuales son las filas duplicadas para su revisión:\n",
    "duplicados=merge2_dfs[merge2_dfs.duplicated()]\n",
    "duplicados"
   ]
  },
  {
   "cell_type": "code",
   "execution_count": 51,
   "metadata": {},
   "outputs": [],
   "source": [
    "#Eliminamos las filas repetidas y creamos un df_nuevo:\n",
    "df_limpio=merge2_dfs.drop_duplicates()"
   ]
  },
  {
   "cell_type": "code",
   "execution_count": 52,
   "metadata": {},
   "outputs": [
    {
     "data": {
      "text/plain": [
       "0"
      ]
     },
     "execution_count": 52,
     "metadata": {},
     "output_type": "execute_result"
    }
   ],
   "source": [
    "df_limpio.duplicated().sum()"
   ]
  },
  {
   "cell_type": "markdown",
   "metadata": {},
   "source": [
    "Sacamos los valores unicos para una última revision y para la separación por categorias de cada columna:"
   ]
  },
  {
   "cell_type": "code",
   "execution_count": 55,
   "metadata": {},
   "outputs": [
    {
     "name": "stdout",
     "output_type": "stream",
     "text": [
      "<class 'pandas.core.frame.DataFrame'>\n",
      "Index: 79920 entries, 0 to 79999\n",
      "Data columns (total 12 columns):\n",
      " #   Column       Non-Null Count  Dtype  \n",
      "---  ------       --------------  -----  \n",
      " 0   id_venta     79920 non-null  object \n",
      " 1   id_producto  79920 non-null  object \n",
      " 2   cantidad     79920 non-null  int64  \n",
      " 3   fecha        79920 non-null  object \n",
      " 4   id_cliente   79920 non-null  object \n",
      " 5   nombre       79920 non-null  object \n",
      " 6   apellido     79920 non-null  object \n",
      " 7   ciudad       79920 non-null  object \n",
      " 8   precio       79920 non-null  float64\n",
      " 9   categoria    79920 non-null  object \n",
      " 10  descripcion  79920 non-null  object \n",
      " 11  pais         79920 non-null  object \n",
      "dtypes: float64(1), int64(1), object(10)\n",
      "memory usage: 7.9+ MB\n"
     ]
    }
   ],
   "source": [
    "df_limpio.info()"
   ]
  },
  {
   "cell_type": "code",
   "execution_count": 54,
   "metadata": {},
   "outputs": [
    {
     "data": {
      "text/plain": [
       "id_venta\n",
       "V005860    23\n",
       "V004944    23\n",
       "V002430    23\n",
       "V000395    22\n",
       "V005828    21\n",
       "           ..\n",
       "V000561     2\n",
       "V000130     1\n",
       "V001199     1\n",
       "V002861     1\n",
       "V000696     1\n",
       "Name: count, Length: 8000, dtype: int64"
      ]
     },
     "metadata": {},
     "output_type": "display_data"
    },
    {
     "data": {
      "text/plain": [
       "id_producto\n",
       "P0057    209\n",
       "P0269    208\n",
       "P0193    201\n",
       "P0026    199\n",
       "P0068    197\n",
       "        ... \n",
       "P0315    135\n",
       "P0249    134\n",
       "P0147    132\n",
       "P0445    131\n",
       "P0532    131\n",
       "Name: count, Length: 480, dtype: int64"
      ]
     },
     "metadata": {},
     "output_type": "display_data"
    },
    {
     "data": {
      "text/plain": [
       "cantidad\n",
       "9     8134\n",
       "6     8101\n",
       "4     8072\n",
       "10    8031\n",
       "1     7998\n",
       "2     7967\n",
       "3     7951\n",
       "7     7927\n",
       "5     7900\n",
       "8     7839\n",
       "Name: count, dtype: int64"
      ]
     },
     "metadata": {},
     "output_type": "display_data"
    },
    {
     "data": {
      "text/plain": [
       "fecha\n",
       "2021-12-22    149\n",
       "2022-12-04    140\n",
       "2020-11-30    130\n",
       "2023-09-20    126\n",
       "2020-01-19    124\n",
       "             ... \n",
       "2024-04-01      6\n",
       "2023-04-03      6\n",
       "2021-01-22      6\n",
       "2021-11-09      3\n",
       "2023-05-14      2\n",
       "Name: count, Length: 1638, dtype: int64"
      ]
     },
     "metadata": {},
     "output_type": "display_data"
    },
    {
     "data": {
      "text/plain": [
       "id_cliente\n",
       "C0092    552\n",
       "C0069    551\n",
       "C0214    524\n",
       "C0065    516\n",
       "C0071    514\n",
       "        ... \n",
       "C0021    229\n",
       "C0208    227\n",
       "C0248    223\n",
       "C0199    213\n",
       "C0054    200\n",
       "Name: count, Length: 210, dtype: int64"
      ]
     },
     "metadata": {},
     "output_type": "display_data"
    },
    {
     "data": {
      "text/plain": [
       "nombre\n",
       "María     11362\n",
       "Ana       10926\n",
       "Marta      9527\n",
       "Elena      9168\n",
       "Sofía      7641\n",
       "Carmen     6909\n",
       "Laura      6788\n",
       "Lucía      6399\n",
       "Clara      5779\n",
       "Julia      5421\n",
       "Name: count, dtype: int64"
      ]
     },
     "metadata": {},
     "output_type": "display_data"
    },
    {
     "data": {
      "text/plain": [
       "apellido\n",
       "Rodríguez    10618\n",
       "García        9453\n",
       "Fernández     8522\n",
       "Sánchez       8285\n",
       "Martínez      8256\n",
       "Pérez         8151\n",
       "López         7761\n",
       "Hernández     6553\n",
       "Gómez         6388\n",
       "González      5933\n",
       "Name: count, dtype: int64"
      ]
     },
     "metadata": {},
     "output_type": "display_data"
    },
    {
     "data": {
      "text/plain": [
       "ciudad\n",
       "Sevilla      5811\n",
       "Lyon         5666\n",
       "Marsella     5474\n",
       "Bilbao       4650\n",
       "Málaga       4603\n",
       "Toulouse     4573\n",
       "Aveiro       4457\n",
       "Lisboa       4203\n",
       "Granada      4047\n",
       "París        3984\n",
       "Zaragoza     3954\n",
       "Niza         3751\n",
       "Madrid       3740\n",
       "Oporto       3635\n",
       "Barcelona    3433\n",
       "Coímbra      3174\n",
       "Braga        3066\n",
       "Murcia       2956\n",
       "Valencia     2840\n",
       "Santander    1903\n",
       "Name: count, dtype: int64"
      ]
     },
     "metadata": {},
     "output_type": "display_data"
    },
    {
     "data": {
      "text/plain": [
       "precio\n",
       "58.91    466\n",
       "43.80    360\n",
       "85.45    346\n",
       "94.87    342\n",
       "69.00    337\n",
       "        ... \n",
       "9.05     137\n",
       "12.45    135\n",
       "8.49     134\n",
       "58.79    132\n",
       "46.07    131\n",
       "Name: count, Length: 469, dtype: int64"
      ]
     },
     "metadata": {},
     "output_type": "display_data"
    },
    {
     "data": {
      "text/plain": [
       "categoria\n",
       "Clothing             17593\n",
       "Sports & Outdoors    16975\n",
       "Electronics          15616\n",
       "Books                14950\n",
       "Home & Kitchen       14786\n",
       "Name: count, dtype: int64"
      ]
     },
     "metadata": {},
     "output_type": "display_data"
    },
    {
     "data": {
      "text/plain": [
       "descripcion\n",
       "dcviGSuHA8rW4q9Yp1MJSSY3LJIw5B0XYyFD7GzlLIQIGGK3xb    209\n",
       "ZPhbmFr3PyFOnFPlEKIWH4ZD10oIoX8Voqis8479iNsKVVeMvo    208\n",
       "SgRLGH75Me2tlGSfkfgUUrB2FWQRDbdh9eIgXULBADVvN6pd9B    201\n",
       "Xox9iFw7bo4HWmnbZ8i0RMJ8VUlgk8DNj0gPLH5GsZmYGruuPA    199\n",
       "qHZ5sogxCc4GMeJEFOOZCPpLvgit1nmKhLZyHBWrxTzzlkVPkL    197\n",
       "                                                     ... \n",
       "A7PtqYPRb7JkY8oqomD29K0M6iwKXaECLs3ZrE4VeNL5wGvJZp    135\n",
       "UmjVibYp1667NUO2XbjROoOrt5cI778aI7XWZhuC5t1wjEzsDk    134\n",
       "1X3COzOlSvb5JrDAMCx8820Qp6ksCxHa0GFahfyzdDHmuCKUHF    132\n",
       "DFIkrVpCfqdO4DjjaOq7nXguZLE5VhgYsjlQVe4yVoXoBnOkS3    131\n",
       "TztFb2Y3zLtYvjHbCKEAD9XQe1ccXwkxyPX6TryMBfXAHNSweO    131\n",
       "Name: count, Length: 480, dtype: int64"
      ]
     },
     "metadata": {},
     "output_type": "display_data"
    },
    {
     "data": {
      "text/plain": [
       "pais\n",
       "España      37937\n",
       "Francia     23448\n",
       "Portugal    18535\n",
       "Name: count, dtype: int64"
      ]
     },
     "metadata": {},
     "output_type": "display_data"
    }
   ],
   "source": [
    "for columna in df_limpio.columns:\n",
    "    display(df_limpio[columna].value_counts())"
   ]
  },
  {
   "cell_type": "code",
   "execution_count": 57,
   "metadata": {},
   "outputs": [],
   "source": [
    "#Separamos en variables categóricas y numericas :\n",
    "df_categoricas=df_limpio.select_dtypes(include='object')\n",
    "df_numericas=df_limpio.select_dtypes(include=['int','float'])"
   ]
  },
  {
   "cell_type": "code",
   "execution_count": 58,
   "metadata": {},
   "outputs": [
    {
     "data": {
      "text/html": [
       "<div>\n",
       "<style scoped>\n",
       "    .dataframe tbody tr th:only-of-type {\n",
       "        vertical-align: middle;\n",
       "    }\n",
       "\n",
       "    .dataframe tbody tr th {\n",
       "        vertical-align: top;\n",
       "    }\n",
       "\n",
       "    .dataframe thead th {\n",
       "        text-align: right;\n",
       "    }\n",
       "</style>\n",
       "<table border=\"1\" class=\"dataframe\">\n",
       "  <thead>\n",
       "    <tr style=\"text-align: right;\">\n",
       "      <th></th>\n",
       "      <th>count</th>\n",
       "      <th>unique</th>\n",
       "      <th>top</th>\n",
       "      <th>freq</th>\n",
       "    </tr>\n",
       "  </thead>\n",
       "  <tbody>\n",
       "    <tr>\n",
       "      <th>id_venta</th>\n",
       "      <td>79920</td>\n",
       "      <td>8000</td>\n",
       "      <td>V005860</td>\n",
       "      <td>23</td>\n",
       "    </tr>\n",
       "    <tr>\n",
       "      <th>id_producto</th>\n",
       "      <td>79920</td>\n",
       "      <td>480</td>\n",
       "      <td>P0057</td>\n",
       "      <td>209</td>\n",
       "    </tr>\n",
       "    <tr>\n",
       "      <th>fecha</th>\n",
       "      <td>79920</td>\n",
       "      <td>1638</td>\n",
       "      <td>2021-12-22</td>\n",
       "      <td>149</td>\n",
       "    </tr>\n",
       "    <tr>\n",
       "      <th>id_cliente</th>\n",
       "      <td>79920</td>\n",
       "      <td>210</td>\n",
       "      <td>C0092</td>\n",
       "      <td>552</td>\n",
       "    </tr>\n",
       "    <tr>\n",
       "      <th>nombre</th>\n",
       "      <td>79920</td>\n",
       "      <td>10</td>\n",
       "      <td>María</td>\n",
       "      <td>11362</td>\n",
       "    </tr>\n",
       "    <tr>\n",
       "      <th>apellido</th>\n",
       "      <td>79920</td>\n",
       "      <td>10</td>\n",
       "      <td>Rodríguez</td>\n",
       "      <td>10618</td>\n",
       "    </tr>\n",
       "    <tr>\n",
       "      <th>ciudad</th>\n",
       "      <td>79920</td>\n",
       "      <td>20</td>\n",
       "      <td>Sevilla</td>\n",
       "      <td>5811</td>\n",
       "    </tr>\n",
       "    <tr>\n",
       "      <th>categoria</th>\n",
       "      <td>79920</td>\n",
       "      <td>5</td>\n",
       "      <td>Clothing</td>\n",
       "      <td>17593</td>\n",
       "    </tr>\n",
       "    <tr>\n",
       "      <th>descripcion</th>\n",
       "      <td>79920</td>\n",
       "      <td>480</td>\n",
       "      <td>dcviGSuHA8rW4q9Yp1MJSSY3LJIw5B0XYyFD7GzlLIQIGG...</td>\n",
       "      <td>209</td>\n",
       "    </tr>\n",
       "    <tr>\n",
       "      <th>pais</th>\n",
       "      <td>79920</td>\n",
       "      <td>3</td>\n",
       "      <td>España</td>\n",
       "      <td>37937</td>\n",
       "    </tr>\n",
       "  </tbody>\n",
       "</table>\n",
       "</div>"
      ],
      "text/plain": [
       "             count unique                                                top  \\\n",
       "id_venta     79920   8000                                            V005860   \n",
       "id_producto  79920    480                                              P0057   \n",
       "fecha        79920   1638                                         2021-12-22   \n",
       "id_cliente   79920    210                                              C0092   \n",
       "nombre       79920     10                                              María   \n",
       "apellido     79920     10                                          Rodríguez   \n",
       "ciudad       79920     20                                            Sevilla   \n",
       "categoria    79920      5                                           Clothing   \n",
       "descripcion  79920    480  dcviGSuHA8rW4q9Yp1MJSSY3LJIw5B0XYyFD7GzlLIQIGG...   \n",
       "pais         79920      3                                             España   \n",
       "\n",
       "              freq  \n",
       "id_venta        23  \n",
       "id_producto    209  \n",
       "fecha          149  \n",
       "id_cliente     552  \n",
       "nombre       11362  \n",
       "apellido     10618  \n",
       "ciudad        5811  \n",
       "categoria    17593  \n",
       "descripcion    209  \n",
       "pais         37937  "
      ]
     },
     "execution_count": 58,
     "metadata": {},
     "output_type": "execute_result"
    }
   ],
   "source": [
    "#Sacamos las principales estadísticas:\n",
    "df_categoricas.describe().T"
   ]
  },
  {
   "cell_type": "code",
   "execution_count": 59,
   "metadata": {},
   "outputs": [
    {
     "data": {
      "text/html": [
       "<div>\n",
       "<style scoped>\n",
       "    .dataframe tbody tr th:only-of-type {\n",
       "        vertical-align: middle;\n",
       "    }\n",
       "\n",
       "    .dataframe tbody tr th {\n",
       "        vertical-align: top;\n",
       "    }\n",
       "\n",
       "    .dataframe thead th {\n",
       "        text-align: right;\n",
       "    }\n",
       "</style>\n",
       "<table border=\"1\" class=\"dataframe\">\n",
       "  <thead>\n",
       "    <tr style=\"text-align: right;\">\n",
       "      <th></th>\n",
       "      <th>count</th>\n",
       "      <th>mean</th>\n",
       "      <th>std</th>\n",
       "      <th>min</th>\n",
       "      <th>25%</th>\n",
       "      <th>50%</th>\n",
       "      <th>75%</th>\n",
       "      <th>max</th>\n",
       "    </tr>\n",
       "  </thead>\n",
       "  <tbody>\n",
       "    <tr>\n",
       "      <th>cantidad</th>\n",
       "      <td>79920.0</td>\n",
       "      <td>5.504204</td>\n",
       "      <td>2.874844</td>\n",
       "      <td>1.00</td>\n",
       "      <td>3.00</td>\n",
       "      <td>6.00</td>\n",
       "      <td>8.00</td>\n",
       "      <td>10.00</td>\n",
       "    </tr>\n",
       "    <tr>\n",
       "      <th>precio</th>\n",
       "      <td>79920.0</td>\n",
       "      <td>48.600795</td>\n",
       "      <td>27.539365</td>\n",
       "      <td>1.21</td>\n",
       "      <td>25.54</td>\n",
       "      <td>47.82</td>\n",
       "      <td>72.71</td>\n",
       "      <td>99.72</td>\n",
       "    </tr>\n",
       "  </tbody>\n",
       "</table>\n",
       "</div>"
      ],
      "text/plain": [
       "            count       mean        std   min    25%    50%    75%    max\n",
       "cantidad  79920.0   5.504204   2.874844  1.00   3.00   6.00   8.00  10.00\n",
       "precio    79920.0  48.600795  27.539365  1.21  25.54  47.82  72.71  99.72"
      ]
     },
     "execution_count": 59,
     "metadata": {},
     "output_type": "execute_result"
    }
   ],
   "source": [
    "df_numericas.describe().T"
   ]
  }
 ],
 "metadata": {
  "kernelspec": {
   "display_name": "base",
   "language": "python",
   "name": "python3"
  },
  "language_info": {
   "codemirror_mode": {
    "name": "ipython",
    "version": 3
   },
   "file_extension": ".py",
   "mimetype": "text/x-python",
   "name": "python",
   "nbconvert_exporter": "python",
   "pygments_lexer": "ipython3",
   "version": "undefined.undefined.undefined"
  }
 },
 "nbformat": 4,
 "nbformat_minor": 2
}
