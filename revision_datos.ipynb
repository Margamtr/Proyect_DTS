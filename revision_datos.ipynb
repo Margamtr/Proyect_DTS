{
 "cells": [
  {
   "cell_type": "markdown",
   "metadata": {},
   "source": [
    "#Revisión general de los datos."
   ]
  },
  {
   "cell_type": "code",
   "execution_count": 7,
   "metadata": {},
   "outputs": [],
   "source": [
    "#Tratamiento y exportación de datos\n",
    "#importamos librerias\n",
    "import pandas as pd    # Librería para tablas y tratamiento de datos.\n",
    "#Para una visualización completa de todas las columnas:\n",
    "pd.set_option('display.max_columns', None)"
   ]
  },
  {
   "cell_type": "code",
   "execution_count": 8,
   "metadata": {},
   "outputs": [
    {
     "data": {
      "text/html": [
       "<div>\n",
       "<style scoped>\n",
       "    .dataframe tbody tr th:only-of-type {\n",
       "        vertical-align: middle;\n",
       "    }\n",
       "\n",
       "    .dataframe tbody tr th {\n",
       "        vertical-align: top;\n",
       "    }\n",
       "\n",
       "    .dataframe thead th {\n",
       "        text-align: right;\n",
       "    }\n",
       "</style>\n",
       "<table border=\"1\" class=\"dataframe\">\n",
       "  <thead>\n",
       "    <tr style=\"text-align: right;\">\n",
       "      <th></th>\n",
       "      <th>id_cliente</th>\n",
       "      <th>nombre</th>\n",
       "      <th>apellido</th>\n",
       "      <th>ciudad</th>\n",
       "    </tr>\n",
       "  </thead>\n",
       "  <tbody>\n",
       "    <tr>\n",
       "      <th>204</th>\n",
       "      <td>C0205</td>\n",
       "      <td>Elena</td>\n",
       "      <td>García</td>\n",
       "      <td>Lisboa, Portugal</td>\n",
       "    </tr>\n",
       "    <tr>\n",
       "      <th>107</th>\n",
       "      <td>C0108</td>\n",
       "      <td>Carmen</td>\n",
       "      <td>Gómez</td>\n",
       "      <td>Marsella, Francia</td>\n",
       "    </tr>\n",
       "    <tr>\n",
       "      <th>104</th>\n",
       "      <td>C0105</td>\n",
       "      <td>Sofía</td>\n",
       "      <td>Rodríguez</td>\n",
       "      <td>Madrid, España</td>\n",
       "    </tr>\n",
       "    <tr>\n",
       "      <th>81</th>\n",
       "      <td>C0082</td>\n",
       "      <td>Marta</td>\n",
       "      <td>López</td>\n",
       "      <td>Toulouse, Francia</td>\n",
       "    </tr>\n",
       "    <tr>\n",
       "      <th>159</th>\n",
       "      <td>C0160</td>\n",
       "      <td>Ana</td>\n",
       "      <td>García</td>\n",
       "      <td>Braga, Portugal</td>\n",
       "    </tr>\n",
       "  </tbody>\n",
       "</table>\n",
       "</div>"
      ],
      "text/plain": [
       "    id_cliente  nombre   apellido             ciudad\n",
       "204      C0205   Elena     García   Lisboa, Portugal\n",
       "107      C0108  Carmen      Gómez  Marsella, Francia\n",
       "104      C0105   Sofía  Rodríguez     Madrid, España\n",
       "81       C0082   Marta      López  Toulouse, Francia\n",
       "159      C0160     Ana     García    Braga, Portugal"
      ]
     },
     "execution_count": 8,
     "metadata": {},
     "output_type": "execute_result"
    }
   ],
   "source": [
    "\n",
    "df_clientes=pd.read_csv('clientes.csv')\n",
    "df_clientes.sample(5)"
   ]
  },
  {
   "cell_type": "code",
   "execution_count": 11,
   "metadata": {},
   "outputs": [
    {
     "name": "stdout",
     "output_type": "stream",
     "text": [
      "<class 'pandas.core.frame.DataFrame'>\n",
      "RangeIndex: 300 entries, 0 to 299\n",
      "Data columns (total 4 columns):\n",
      " #   Column      Non-Null Count  Dtype \n",
      "---  ------      --------------  ----- \n",
      " 0   id_cliente  300 non-null    object\n",
      " 1   nombre      300 non-null    object\n",
      " 2   apellido    300 non-null    object\n",
      " 3   ciudad      300 non-null    object\n",
      "dtypes: object(4)\n",
      "memory usage: 9.5+ KB\n"
     ]
    }
   ],
   "source": [
    "df_clientes.info()"
   ]
  },
  {
   "cell_type": "code",
   "execution_count": 9,
   "metadata": {},
   "outputs": [
    {
     "data": {
      "text/html": [
       "<div>\n",
       "<style scoped>\n",
       "    .dataframe tbody tr th:only-of-type {\n",
       "        vertical-align: middle;\n",
       "    }\n",
       "\n",
       "    .dataframe tbody tr th {\n",
       "        vertical-align: top;\n",
       "    }\n",
       "\n",
       "    .dataframe thead th {\n",
       "        text-align: right;\n",
       "    }\n",
       "</style>\n",
       "<table border=\"1\" class=\"dataframe\">\n",
       "  <thead>\n",
       "    <tr style=\"text-align: right;\">\n",
       "      <th></th>\n",
       "      <th>id_producto</th>\n",
       "      <th>precio</th>\n",
       "      <th>categoria</th>\n",
       "      <th>descripcion</th>\n",
       "    </tr>\n",
       "  </thead>\n",
       "  <tbody>\n",
       "    <tr>\n",
       "      <th>464</th>\n",
       "      <td>P0465</td>\n",
       "      <td>38.94 €</td>\n",
       "      <td>Electronics</td>\n",
       "      <td>IFQl2oaNI99vUxfCveVpq8skuWlXIjp4DgjWCx0Ue73SOO...</td>\n",
       "    </tr>\n",
       "    <tr>\n",
       "      <th>354</th>\n",
       "      <td>P0355</td>\n",
       "      <td>94.87 €</td>\n",
       "      <td>Electronics</td>\n",
       "      <td>yemNb91FWElaVGDR4Gp4rgOpOQekLbn0HOOoiat1ZnHOaM...</td>\n",
       "    </tr>\n",
       "    <tr>\n",
       "      <th>225</th>\n",
       "      <td>P0226</td>\n",
       "      <td>90.84 €</td>\n",
       "      <td>Books</td>\n",
       "      <td>wsrDWe2tU147iAFlGzscHcsBh12SGdKg7nVDz8gUYEbt0z...</td>\n",
       "    </tr>\n",
       "    <tr>\n",
       "      <th>51</th>\n",
       "      <td>P0052</td>\n",
       "      <td>91.26 €</td>\n",
       "      <td>Sports &amp; Outdoors</td>\n",
       "      <td>pdYA30f99HhgFDbwsTw2uKQZQkDNXxxqt4b2DLlDYqx6IF...</td>\n",
       "    </tr>\n",
       "    <tr>\n",
       "      <th>493</th>\n",
       "      <td>P0494</td>\n",
       "      <td>8.46 €</td>\n",
       "      <td>Sports &amp; Outdoors</td>\n",
       "      <td>XNYzTeiOeZB6dl8kMbROvkjqibxFa2o7cdApfHNtwkakxS...</td>\n",
       "    </tr>\n",
       "  </tbody>\n",
       "</table>\n",
       "</div>"
      ],
      "text/plain": [
       "    id_producto   precio          categoria  \\\n",
       "464       P0465  38.94 €        Electronics   \n",
       "354       P0355  94.87 €        Electronics   \n",
       "225       P0226  90.84 €              Books   \n",
       "51        P0052  91.26 €  Sports & Outdoors   \n",
       "493       P0494   8.46 €  Sports & Outdoors   \n",
       "\n",
       "                                           descripcion  \n",
       "464  IFQl2oaNI99vUxfCveVpq8skuWlXIjp4DgjWCx0Ue73SOO...  \n",
       "354  yemNb91FWElaVGDR4Gp4rgOpOQekLbn0HOOoiat1ZnHOaM...  \n",
       "225  wsrDWe2tU147iAFlGzscHcsBh12SGdKg7nVDz8gUYEbt0z...  \n",
       "51   pdYA30f99HhgFDbwsTw2uKQZQkDNXxxqt4b2DLlDYqx6IF...  \n",
       "493  XNYzTeiOeZB6dl8kMbROvkjqibxFa2o7cdApfHNtwkakxS...  "
      ]
     },
     "execution_count": 9,
     "metadata": {},
     "output_type": "execute_result"
    }
   ],
   "source": [
    "df_productos=pd.read_csv('productos.csv')\n",
    "df_productos.sample(5)"
   ]
  },
  {
   "cell_type": "code",
   "execution_count": 12,
   "metadata": {},
   "outputs": [
    {
     "name": "stdout",
     "output_type": "stream",
     "text": [
      "<class 'pandas.core.frame.DataFrame'>\n",
      "RangeIndex: 600 entries, 0 to 599\n",
      "Data columns (total 4 columns):\n",
      " #   Column       Non-Null Count  Dtype \n",
      "---  ------       --------------  ----- \n",
      " 0   id_producto  600 non-null    object\n",
      " 1   precio       600 non-null    object\n",
      " 2   categoria    600 non-null    object\n",
      " 3   descripcion  600 non-null    object\n",
      "dtypes: object(4)\n",
      "memory usage: 18.9+ KB\n"
     ]
    }
   ],
   "source": [
    "df_productos.info()"
   ]
  },
  {
   "cell_type": "code",
   "execution_count": 10,
   "metadata": {},
   "outputs": [
    {
     "data": {
      "text/html": [
       "<div>\n",
       "<style scoped>\n",
       "    .dataframe tbody tr th:only-of-type {\n",
       "        vertical-align: middle;\n",
       "    }\n",
       "\n",
       "    .dataframe tbody tr th {\n",
       "        vertical-align: top;\n",
       "    }\n",
       "\n",
       "    .dataframe thead th {\n",
       "        text-align: right;\n",
       "    }\n",
       "</style>\n",
       "<table border=\"1\" class=\"dataframe\">\n",
       "  <thead>\n",
       "    <tr style=\"text-align: right;\">\n",
       "      <th></th>\n",
       "      <th>id_venta</th>\n",
       "      <th>id_producto</th>\n",
       "      <th>cantidad</th>\n",
       "      <th>fecha</th>\n",
       "      <th>id_cliente</th>\n",
       "    </tr>\n",
       "  </thead>\n",
       "  <tbody>\n",
       "    <tr>\n",
       "      <th>77968</th>\n",
       "      <td>V007113</td>\n",
       "      <td>P0433</td>\n",
       "      <td>2</td>\n",
       "      <td>2022-11-06</td>\n",
       "      <td>C0163</td>\n",
       "    </tr>\n",
       "    <tr>\n",
       "      <th>13207</th>\n",
       "      <td>V007568</td>\n",
       "      <td>P0169</td>\n",
       "      <td>6</td>\n",
       "      <td>2023-01-01</td>\n",
       "      <td>C0067</td>\n",
       "    </tr>\n",
       "    <tr>\n",
       "      <th>20509</th>\n",
       "      <td>V004395</td>\n",
       "      <td>P0471</td>\n",
       "      <td>3</td>\n",
       "      <td>2021-09-24</td>\n",
       "      <td>C0025</td>\n",
       "    </tr>\n",
       "    <tr>\n",
       "      <th>63764</th>\n",
       "      <td>V005508</td>\n",
       "      <td>P0397</td>\n",
       "      <td>8</td>\n",
       "      <td>2021-05-11</td>\n",
       "      <td>C0143</td>\n",
       "    </tr>\n",
       "    <tr>\n",
       "      <th>33884</th>\n",
       "      <td>V001290</td>\n",
       "      <td>P0307</td>\n",
       "      <td>7</td>\n",
       "      <td>2020-01-20</td>\n",
       "      <td>C0212</td>\n",
       "    </tr>\n",
       "  </tbody>\n",
       "</table>\n",
       "</div>"
      ],
      "text/plain": [
       "      id_venta id_producto  cantidad       fecha id_cliente\n",
       "77968  V007113       P0433         2  2022-11-06      C0163\n",
       "13207  V007568       P0169         6  2023-01-01      C0067\n",
       "20509  V004395       P0471         3  2021-09-24      C0025\n",
       "63764  V005508       P0397         8  2021-05-11      C0143\n",
       "33884  V001290       P0307         7  2020-01-20      C0212"
      ]
     },
     "execution_count": 10,
     "metadata": {},
     "output_type": "execute_result"
    }
   ],
   "source": [
    "df_ventas=pd.read_csv('ventas.csv')\n",
    "df_ventas.sample(5)"
   ]
  },
  {
   "cell_type": "code",
   "execution_count": 13,
   "metadata": {},
   "outputs": [
    {
     "name": "stdout",
     "output_type": "stream",
     "text": [
      "<class 'pandas.core.frame.DataFrame'>\n",
      "RangeIndex: 80000 entries, 0 to 79999\n",
      "Data columns (total 5 columns):\n",
      " #   Column       Non-Null Count  Dtype \n",
      "---  ------       --------------  ----- \n",
      " 0   id_venta     80000 non-null  object\n",
      " 1   id_producto  80000 non-null  object\n",
      " 2   cantidad     80000 non-null  int64 \n",
      " 3   fecha        80000 non-null  object\n",
      " 4   id_cliente   80000 non-null  object\n",
      "dtypes: int64(1), object(4)\n",
      "memory usage: 3.1+ MB\n"
     ]
    }
   ],
   "source": [
    "df_ventas.info()"
   ]
  }
 ],
 "metadata": {
  "kernelspec": {
   "display_name": "base",
   "language": "python",
   "name": "python3"
  },
  "language_info": {
   "codemirror_mode": {
    "name": "ipython",
    "version": 3
   },
   "file_extension": ".py",
   "mimetype": "text/x-python",
   "name": "python",
   "nbconvert_exporter": "python",
   "pygments_lexer": "ipython3",
   "version": "3.11.7"
  }
 },
 "nbformat": 4,
 "nbformat_minor": 2
}
