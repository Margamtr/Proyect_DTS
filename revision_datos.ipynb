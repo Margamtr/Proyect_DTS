{
 "cells": [
  {
   "cell_type": "markdown",
   "metadata": {},
   "source": [
    "#Revisión general de los datos."
   ]
  },
  {
   "cell_type": "code",
   "execution_count": 1,
   "metadata": {},
   "outputs": [],
   "source": [
    "#Tratamiento y exportación de datos\n",
    "#importamos librerias\n",
    "import pandas as pd    # Librería para tablas y tratamiento de datos.\n",
    "#Para una visualización completa de todas las columnas:\n",
    "pd.set_option('display.max_columns', None)"
   ]
  },
  {
   "cell_type": "code",
   "execution_count": 2,
   "metadata": {},
   "outputs": [
    {
     "data": {
      "text/html": [
       "<div>\n",
       "<style scoped>\n",
       "    .dataframe tbody tr th:only-of-type {\n",
       "        vertical-align: middle;\n",
       "    }\n",
       "\n",
       "    .dataframe tbody tr th {\n",
       "        vertical-align: top;\n",
       "    }\n",
       "\n",
       "    .dataframe thead th {\n",
       "        text-align: right;\n",
       "    }\n",
       "</style>\n",
       "<table border=\"1\" class=\"dataframe\">\n",
       "  <thead>\n",
       "    <tr style=\"text-align: right;\">\n",
       "      <th></th>\n",
       "      <th>id_cliente</th>\n",
       "      <th>nombre</th>\n",
       "      <th>apellido</th>\n",
       "      <th>ciudad</th>\n",
       "    </tr>\n",
       "  </thead>\n",
       "  <tbody>\n",
       "    <tr>\n",
       "      <th>5</th>\n",
       "      <td>C0006</td>\n",
       "      <td>Elena</td>\n",
       "      <td>López</td>\n",
       "      <td>Braga, Portugal</td>\n",
       "    </tr>\n",
       "    <tr>\n",
       "      <th>299</th>\n",
       "      <td>C0300</td>\n",
       "      <td>Carmen</td>\n",
       "      <td>Pérez</td>\n",
       "      <td>Aveiro, Portugal</td>\n",
       "    </tr>\n",
       "    <tr>\n",
       "      <th>21</th>\n",
       "      <td>C0022</td>\n",
       "      <td>María</td>\n",
       "      <td>Rodríguez</td>\n",
       "      <td>Aveiro, Portugal</td>\n",
       "    </tr>\n",
       "    <tr>\n",
       "      <th>58</th>\n",
       "      <td>C0059</td>\n",
       "      <td>Carmen</td>\n",
       "      <td>Sánchez</td>\n",
       "      <td>Sevilla, España</td>\n",
       "    </tr>\n",
       "    <tr>\n",
       "      <th>122</th>\n",
       "      <td>C0123</td>\n",
       "      <td>Ana</td>\n",
       "      <td>González</td>\n",
       "      <td>Toulouse, Francia</td>\n",
       "    </tr>\n",
       "  </tbody>\n",
       "</table>\n",
       "</div>"
      ],
      "text/plain": [
       "    id_cliente  nombre   apellido             ciudad\n",
       "5        C0006   Elena      López    Braga, Portugal\n",
       "299      C0300  Carmen      Pérez   Aveiro, Portugal\n",
       "21       C0022   María  Rodríguez   Aveiro, Portugal\n",
       "58       C0059  Carmen    Sánchez    Sevilla, España\n",
       "122      C0123     Ana   González  Toulouse, Francia"
      ]
     },
     "execution_count": 2,
     "metadata": {},
     "output_type": "execute_result"
    }
   ],
   "source": [
    "\n",
    "df_clientes=pd.read_csv('clientes.csv')\n",
    "df_clientes.sample(5)"
   ]
  },
  {
   "cell_type": "code",
   "execution_count": 3,
   "metadata": {},
   "outputs": [
    {
     "name": "stdout",
     "output_type": "stream",
     "text": [
      "<class 'pandas.core.frame.DataFrame'>\n",
      "RangeIndex: 300 entries, 0 to 299\n",
      "Data columns (total 4 columns):\n",
      " #   Column      Non-Null Count  Dtype \n",
      "---  ------      --------------  ----- \n",
      " 0   id_cliente  300 non-null    object\n",
      " 1   nombre      300 non-null    object\n",
      " 2   apellido    300 non-null    object\n",
      " 3   ciudad      300 non-null    object\n",
      "dtypes: object(4)\n",
      "memory usage: 9.5+ KB\n"
     ]
    }
   ],
   "source": [
    "df_clientes.info()"
   ]
  },
  {
   "cell_type": "code",
   "execution_count": 13,
   "metadata": {},
   "outputs": [
    {
     "data": {
      "text/plain": [
       "0"
      ]
     },
     "execution_count": 13,
     "metadata": {},
     "output_type": "execute_result"
    }
   ],
   "source": [
    "df_clientes.duplicated().sum()"
   ]
  },
  {
   "cell_type": "code",
   "execution_count": 4,
   "metadata": {},
   "outputs": [
    {
     "data": {
      "text/html": [
       "<div>\n",
       "<style scoped>\n",
       "    .dataframe tbody tr th:only-of-type {\n",
       "        vertical-align: middle;\n",
       "    }\n",
       "\n",
       "    .dataframe tbody tr th {\n",
       "        vertical-align: top;\n",
       "    }\n",
       "\n",
       "    .dataframe thead th {\n",
       "        text-align: right;\n",
       "    }\n",
       "</style>\n",
       "<table border=\"1\" class=\"dataframe\">\n",
       "  <thead>\n",
       "    <tr style=\"text-align: right;\">\n",
       "      <th></th>\n",
       "      <th>id_producto</th>\n",
       "      <th>precio</th>\n",
       "      <th>categoria</th>\n",
       "      <th>descripcion</th>\n",
       "    </tr>\n",
       "  </thead>\n",
       "  <tbody>\n",
       "    <tr>\n",
       "      <th>554</th>\n",
       "      <td>P0555</td>\n",
       "      <td>64.37 €</td>\n",
       "      <td>Books</td>\n",
       "      <td>NRiNdUaFhdL1wI2eDd7tzW29bMcogzbp3chVrCyph60jLu...</td>\n",
       "    </tr>\n",
       "    <tr>\n",
       "      <th>425</th>\n",
       "      <td>P0426</td>\n",
       "      <td>55.63 €</td>\n",
       "      <td>Electronics</td>\n",
       "      <td>aiK5iNl6oi5VktIIWD42bECYuU8wMjcX4ZodxdhLhB5BLd...</td>\n",
       "    </tr>\n",
       "    <tr>\n",
       "      <th>461</th>\n",
       "      <td>P0462</td>\n",
       "      <td>1.26 €</td>\n",
       "      <td>Books</td>\n",
       "      <td>0qPyzOBFfd3oKM4MHgu0P10A4ZLqyLyKPzLZPrUQWrmO6T...</td>\n",
       "    </tr>\n",
       "    <tr>\n",
       "      <th>268</th>\n",
       "      <td>P0269</td>\n",
       "      <td>74.18 €</td>\n",
       "      <td>Home &amp; Kitchen</td>\n",
       "      <td>ZPhbmFr3PyFOnFPlEKIWH4ZD10oIoX8Voqis8479iNsKVV...</td>\n",
       "    </tr>\n",
       "    <tr>\n",
       "      <th>433</th>\n",
       "      <td>P0434</td>\n",
       "      <td>70.52 €</td>\n",
       "      <td>Clothing</td>\n",
       "      <td>wcK3tVDpAv0p8vvW4GNPVyaYjpEs0FyrVRyEeNktmSviY1...</td>\n",
       "    </tr>\n",
       "  </tbody>\n",
       "</table>\n",
       "</div>"
      ],
      "text/plain": [
       "    id_producto   precio       categoria  \\\n",
       "554       P0555  64.37 €           Books   \n",
       "425       P0426  55.63 €     Electronics   \n",
       "461       P0462   1.26 €           Books   \n",
       "268       P0269  74.18 €  Home & Kitchen   \n",
       "433       P0434  70.52 €        Clothing   \n",
       "\n",
       "                                           descripcion  \n",
       "554  NRiNdUaFhdL1wI2eDd7tzW29bMcogzbp3chVrCyph60jLu...  \n",
       "425  aiK5iNl6oi5VktIIWD42bECYuU8wMjcX4ZodxdhLhB5BLd...  \n",
       "461  0qPyzOBFfd3oKM4MHgu0P10A4ZLqyLyKPzLZPrUQWrmO6T...  \n",
       "268  ZPhbmFr3PyFOnFPlEKIWH4ZD10oIoX8Voqis8479iNsKVV...  \n",
       "433  wcK3tVDpAv0p8vvW4GNPVyaYjpEs0FyrVRyEeNktmSviY1...  "
      ]
     },
     "execution_count": 4,
     "metadata": {},
     "output_type": "execute_result"
    }
   ],
   "source": [
    "df_productos=pd.read_csv('productos.csv')\n",
    "df_productos.sample(5)"
   ]
  },
  {
   "cell_type": "code",
   "execution_count": 14,
   "metadata": {},
   "outputs": [
    {
     "data": {
      "text/plain": [
       "0"
      ]
     },
     "execution_count": 14,
     "metadata": {},
     "output_type": "execute_result"
    }
   ],
   "source": [
    "df_productos.duplicated().sum()\n"
   ]
  },
  {
   "cell_type": "code",
   "execution_count": 5,
   "metadata": {},
   "outputs": [
    {
     "name": "stdout",
     "output_type": "stream",
     "text": [
      "<class 'pandas.core.frame.DataFrame'>\n",
      "RangeIndex: 600 entries, 0 to 599\n",
      "Data columns (total 4 columns):\n",
      " #   Column       Non-Null Count  Dtype \n",
      "---  ------       --------------  ----- \n",
      " 0   id_producto  600 non-null    object\n",
      " 1   precio       600 non-null    object\n",
      " 2   categoria    600 non-null    object\n",
      " 3   descripcion  600 non-null    object\n",
      "dtypes: object(4)\n",
      "memory usage: 18.9+ KB\n"
     ]
    }
   ],
   "source": [
    "df_productos.info()"
   ]
  },
  {
   "cell_type": "code",
   "execution_count": 6,
   "metadata": {},
   "outputs": [
    {
     "data": {
      "text/html": [
       "<div>\n",
       "<style scoped>\n",
       "    .dataframe tbody tr th:only-of-type {\n",
       "        vertical-align: middle;\n",
       "    }\n",
       "\n",
       "    .dataframe tbody tr th {\n",
       "        vertical-align: top;\n",
       "    }\n",
       "\n",
       "    .dataframe thead th {\n",
       "        text-align: right;\n",
       "    }\n",
       "</style>\n",
       "<table border=\"1\" class=\"dataframe\">\n",
       "  <thead>\n",
       "    <tr style=\"text-align: right;\">\n",
       "      <th></th>\n",
       "      <th>id_venta</th>\n",
       "      <th>id_producto</th>\n",
       "      <th>cantidad</th>\n",
       "      <th>fecha</th>\n",
       "      <th>id_cliente</th>\n",
       "    </tr>\n",
       "  </thead>\n",
       "  <tbody>\n",
       "    <tr>\n",
       "      <th>55683</th>\n",
       "      <td>V004084</td>\n",
       "      <td>P0040</td>\n",
       "      <td>5</td>\n",
       "      <td>2023-05-24</td>\n",
       "      <td>C0076</td>\n",
       "    </tr>\n",
       "    <tr>\n",
       "      <th>76165</th>\n",
       "      <td>V002669</td>\n",
       "      <td>P0258</td>\n",
       "      <td>6</td>\n",
       "      <td>2021-01-23</td>\n",
       "      <td>C0211</td>\n",
       "    </tr>\n",
       "    <tr>\n",
       "      <th>41479</th>\n",
       "      <td>V000658</td>\n",
       "      <td>P0003</td>\n",
       "      <td>7</td>\n",
       "      <td>2022-07-18</td>\n",
       "      <td>C0248</td>\n",
       "    </tr>\n",
       "    <tr>\n",
       "      <th>53978</th>\n",
       "      <td>V000069</td>\n",
       "      <td>P0163</td>\n",
       "      <td>4</td>\n",
       "      <td>2021-01-27</td>\n",
       "      <td>C0074</td>\n",
       "    </tr>\n",
       "    <tr>\n",
       "      <th>7166</th>\n",
       "      <td>V005240</td>\n",
       "      <td>P0180</td>\n",
       "      <td>8</td>\n",
       "      <td>2023-10-12</td>\n",
       "      <td>C0067</td>\n",
       "    </tr>\n",
       "  </tbody>\n",
       "</table>\n",
       "</div>"
      ],
      "text/plain": [
       "      id_venta id_producto  cantidad       fecha id_cliente\n",
       "55683  V004084       P0040         5  2023-05-24      C0076\n",
       "76165  V002669       P0258         6  2021-01-23      C0211\n",
       "41479  V000658       P0003         7  2022-07-18      C0248\n",
       "53978  V000069       P0163         4  2021-01-27      C0074\n",
       "7166   V005240       P0180         8  2023-10-12      C0067"
      ]
     },
     "execution_count": 6,
     "metadata": {},
     "output_type": "execute_result"
    }
   ],
   "source": [
    "df_ventas=pd.read_csv('ventas.csv')\n",
    "df_ventas.sample(5)"
   ]
  },
  {
   "cell_type": "code",
   "execution_count": 7,
   "metadata": {},
   "outputs": [
    {
     "name": "stdout",
     "output_type": "stream",
     "text": [
      "<class 'pandas.core.frame.DataFrame'>\n",
      "RangeIndex: 80000 entries, 0 to 79999\n",
      "Data columns (total 5 columns):\n",
      " #   Column       Non-Null Count  Dtype \n",
      "---  ------       --------------  ----- \n",
      " 0   id_venta     80000 non-null  object\n",
      " 1   id_producto  80000 non-null  object\n",
      " 2   cantidad     80000 non-null  int64 \n",
      " 3   fecha        80000 non-null  object\n",
      " 4   id_cliente   80000 non-null  object\n",
      "dtypes: int64(1), object(4)\n",
      "memory usage: 3.1+ MB\n"
     ]
    }
   ],
   "source": [
    "df_ventas.info()"
   ]
  },
  {
   "cell_type": "code",
   "execution_count": 16,
   "metadata": {},
   "outputs": [
    {
     "data": {
      "text/plain": [
       "80"
      ]
     },
     "execution_count": 16,
     "metadata": {},
     "output_type": "execute_result"
    }
   ],
   "source": [
    "df_ventas.duplicated().sum()"
   ]
  },
  {
   "cell_type": "markdown",
   "metadata": {},
   "source": [
    "Pasaremos todos los datos a un solo dataframe:"
   ]
  },
  {
   "cell_type": "code",
   "execution_count": 26,
   "metadata": {},
   "outputs": [],
   "source": [
    "merge1_dfs=df_ventas.merge(df_clientes, on =\"id_cliente\")"
   ]
  },
  {
   "cell_type": "code",
   "execution_count": 27,
   "metadata": {},
   "outputs": [
    {
     "data": {
      "text/html": [
       "<div>\n",
       "<style scoped>\n",
       "    .dataframe tbody tr th:only-of-type {\n",
       "        vertical-align: middle;\n",
       "    }\n",
       "\n",
       "    .dataframe tbody tr th {\n",
       "        vertical-align: top;\n",
       "    }\n",
       "\n",
       "    .dataframe thead th {\n",
       "        text-align: right;\n",
       "    }\n",
       "</style>\n",
       "<table border=\"1\" class=\"dataframe\">\n",
       "  <thead>\n",
       "    <tr style=\"text-align: right;\">\n",
       "      <th></th>\n",
       "      <th>id_venta</th>\n",
       "      <th>id_producto</th>\n",
       "      <th>cantidad</th>\n",
       "      <th>fecha</th>\n",
       "      <th>id_cliente</th>\n",
       "      <th>nombre</th>\n",
       "      <th>apellido</th>\n",
       "      <th>ciudad</th>\n",
       "    </tr>\n",
       "  </thead>\n",
       "  <tbody>\n",
       "    <tr>\n",
       "      <th>0</th>\n",
       "      <td>V004849</td>\n",
       "      <td>P0173</td>\n",
       "      <td>4</td>\n",
       "      <td>2024-05-16</td>\n",
       "      <td>C0203</td>\n",
       "      <td>Lucía</td>\n",
       "      <td>González</td>\n",
       "      <td>Niza, Francia</td>\n",
       "    </tr>\n",
       "    <tr>\n",
       "      <th>1</th>\n",
       "      <td>V003181</td>\n",
       "      <td>P0165</td>\n",
       "      <td>9</td>\n",
       "      <td>2022-09-12</td>\n",
       "      <td>C0004</td>\n",
       "      <td>Marta</td>\n",
       "      <td>López</td>\n",
       "      <td>Valencia, España</td>\n",
       "    </tr>\n",
       "    <tr>\n",
       "      <th>2</th>\n",
       "      <td>V000311</td>\n",
       "      <td>P0194</td>\n",
       "      <td>10</td>\n",
       "      <td>2020-12-02</td>\n",
       "      <td>C0156</td>\n",
       "      <td>Sofía</td>\n",
       "      <td>Sánchez</td>\n",
       "      <td>Santander, España</td>\n",
       "    </tr>\n",
       "    <tr>\n",
       "      <th>3</th>\n",
       "      <td>V002787</td>\n",
       "      <td>P0167</td>\n",
       "      <td>1</td>\n",
       "      <td>2023-07-22</td>\n",
       "      <td>C0058</td>\n",
       "      <td>Clara</td>\n",
       "      <td>Hernández</td>\n",
       "      <td>Barcelona, España</td>\n",
       "    </tr>\n",
       "    <tr>\n",
       "      <th>4</th>\n",
       "      <td>V002726</td>\n",
       "      <td>P0417</td>\n",
       "      <td>10</td>\n",
       "      <td>2022-04-10</td>\n",
       "      <td>C0099</td>\n",
       "      <td>Elena</td>\n",
       "      <td>García</td>\n",
       "      <td>Lisboa, Portugal</td>\n",
       "    </tr>\n",
       "  </tbody>\n",
       "</table>\n",
       "</div>"
      ],
      "text/plain": [
       "  id_venta id_producto  cantidad       fecha id_cliente nombre   apellido  \\\n",
       "0  V004849       P0173         4  2024-05-16      C0203  Lucía   González   \n",
       "1  V003181       P0165         9  2022-09-12      C0004  Marta      López   \n",
       "2  V000311       P0194        10  2020-12-02      C0156  Sofía    Sánchez   \n",
       "3  V002787       P0167         1  2023-07-22      C0058  Clara  Hernández   \n",
       "4  V002726       P0417        10  2022-04-10      C0099  Elena     García   \n",
       "\n",
       "              ciudad  \n",
       "0      Niza, Francia  \n",
       "1   Valencia, España  \n",
       "2  Santander, España  \n",
       "3  Barcelona, España  \n",
       "4   Lisboa, Portugal  "
      ]
     },
     "execution_count": 27,
     "metadata": {},
     "output_type": "execute_result"
    }
   ],
   "source": [
    "merge1_dfs.head()"
   ]
  },
  {
   "cell_type": "code",
   "execution_count": 28,
   "metadata": {},
   "outputs": [],
   "source": [
    "merge2_dfs=merge1_dfs.merge(df_productos, on=\"id_producto\")"
   ]
  },
  {
   "cell_type": "code",
   "execution_count": 29,
   "metadata": {},
   "outputs": [
    {
     "data": {
      "text/html": [
       "<div>\n",
       "<style scoped>\n",
       "    .dataframe tbody tr th:only-of-type {\n",
       "        vertical-align: middle;\n",
       "    }\n",
       "\n",
       "    .dataframe tbody tr th {\n",
       "        vertical-align: top;\n",
       "    }\n",
       "\n",
       "    .dataframe thead th {\n",
       "        text-align: right;\n",
       "    }\n",
       "</style>\n",
       "<table border=\"1\" class=\"dataframe\">\n",
       "  <thead>\n",
       "    <tr style=\"text-align: right;\">\n",
       "      <th></th>\n",
       "      <th>id_venta</th>\n",
       "      <th>id_producto</th>\n",
       "      <th>cantidad</th>\n",
       "      <th>fecha</th>\n",
       "      <th>id_cliente</th>\n",
       "      <th>nombre</th>\n",
       "      <th>apellido</th>\n",
       "      <th>ciudad</th>\n",
       "      <th>precio</th>\n",
       "      <th>categoria</th>\n",
       "      <th>descripcion</th>\n",
       "    </tr>\n",
       "  </thead>\n",
       "  <tbody>\n",
       "    <tr>\n",
       "      <th>0</th>\n",
       "      <td>V004849</td>\n",
       "      <td>P0173</td>\n",
       "      <td>4</td>\n",
       "      <td>2024-05-16</td>\n",
       "      <td>C0203</td>\n",
       "      <td>Lucía</td>\n",
       "      <td>González</td>\n",
       "      <td>Niza, Francia</td>\n",
       "      <td>58.91 €</td>\n",
       "      <td>Books</td>\n",
       "      <td>UASpWkt14nzeB6fkBDwO42wQiCijnSTcizwW1eB1yy0Rmy...</td>\n",
       "    </tr>\n",
       "    <tr>\n",
       "      <th>1</th>\n",
       "      <td>V003181</td>\n",
       "      <td>P0165</td>\n",
       "      <td>9</td>\n",
       "      <td>2022-09-12</td>\n",
       "      <td>C0004</td>\n",
       "      <td>Marta</td>\n",
       "      <td>López</td>\n",
       "      <td>Valencia, España</td>\n",
       "      <td>93.20 €</td>\n",
       "      <td>Books</td>\n",
       "      <td>Wk3wS8V6kUhy0nWnknaaSiS3oQJkfAf8pOK0GAbRqMwQ3L...</td>\n",
       "    </tr>\n",
       "    <tr>\n",
       "      <th>2</th>\n",
       "      <td>V000311</td>\n",
       "      <td>P0194</td>\n",
       "      <td>10</td>\n",
       "      <td>2020-12-02</td>\n",
       "      <td>C0156</td>\n",
       "      <td>Sofía</td>\n",
       "      <td>Sánchez</td>\n",
       "      <td>Santander, España</td>\n",
       "      <td>43.38 €</td>\n",
       "      <td>Clothing</td>\n",
       "      <td>eOnRpP74GAXrDk8UMb6QgmSJscSgpT9B5B9C1PA1TB9Xc5...</td>\n",
       "    </tr>\n",
       "    <tr>\n",
       "      <th>3</th>\n",
       "      <td>V002787</td>\n",
       "      <td>P0167</td>\n",
       "      <td>1</td>\n",
       "      <td>2023-07-22</td>\n",
       "      <td>C0058</td>\n",
       "      <td>Clara</td>\n",
       "      <td>Hernández</td>\n",
       "      <td>Barcelona, España</td>\n",
       "      <td>88.17 €</td>\n",
       "      <td>Sports &amp; Outdoors</td>\n",
       "      <td>y8Efq93OmWZtzYYgcAN3Mw5xQmiwA0hj7AIzQ8Mqba5oYK...</td>\n",
       "    </tr>\n",
       "    <tr>\n",
       "      <th>4</th>\n",
       "      <td>V002726</td>\n",
       "      <td>P0417</td>\n",
       "      <td>10</td>\n",
       "      <td>2022-04-10</td>\n",
       "      <td>C0099</td>\n",
       "      <td>Elena</td>\n",
       "      <td>García</td>\n",
       "      <td>Lisboa, Portugal</td>\n",
       "      <td>60.69 €</td>\n",
       "      <td>Books</td>\n",
       "      <td>EmQk26vUd7mOMAKQHwUVk1Qm4rwUZC1vHOBk9pqI565P7v...</td>\n",
       "    </tr>\n",
       "  </tbody>\n",
       "</table>\n",
       "</div>"
      ],
      "text/plain": [
       "  id_venta id_producto  cantidad       fecha id_cliente nombre   apellido  \\\n",
       "0  V004849       P0173         4  2024-05-16      C0203  Lucía   González   \n",
       "1  V003181       P0165         9  2022-09-12      C0004  Marta      López   \n",
       "2  V000311       P0194        10  2020-12-02      C0156  Sofía    Sánchez   \n",
       "3  V002787       P0167         1  2023-07-22      C0058  Clara  Hernández   \n",
       "4  V002726       P0417        10  2022-04-10      C0099  Elena     García   \n",
       "\n",
       "              ciudad   precio          categoria  \\\n",
       "0      Niza, Francia  58.91 €              Books   \n",
       "1   Valencia, España  93.20 €              Books   \n",
       "2  Santander, España  43.38 €           Clothing   \n",
       "3  Barcelona, España  88.17 €  Sports & Outdoors   \n",
       "4   Lisboa, Portugal  60.69 €              Books   \n",
       "\n",
       "                                         descripcion  \n",
       "0  UASpWkt14nzeB6fkBDwO42wQiCijnSTcizwW1eB1yy0Rmy...  \n",
       "1  Wk3wS8V6kUhy0nWnknaaSiS3oQJkfAf8pOK0GAbRqMwQ3L...  \n",
       "2  eOnRpP74GAXrDk8UMb6QgmSJscSgpT9B5B9C1PA1TB9Xc5...  \n",
       "3  y8Efq93OmWZtzYYgcAN3Mw5xQmiwA0hj7AIzQ8Mqba5oYK...  \n",
       "4  EmQk26vUd7mOMAKQHwUVk1Qm4rwUZC1vHOBk9pqI565P7v...  "
      ]
     },
     "execution_count": 29,
     "metadata": {},
     "output_type": "execute_result"
    }
   ],
   "source": [
    "merge2_dfs.head()"
   ]
  },
  {
   "cell_type": "code",
   "execution_count": 30,
   "metadata": {},
   "outputs": [
    {
     "name": "stdout",
     "output_type": "stream",
     "text": [
      "<class 'pandas.core.frame.DataFrame'>\n",
      "RangeIndex: 80000 entries, 0 to 79999\n",
      "Data columns (total 11 columns):\n",
      " #   Column       Non-Null Count  Dtype \n",
      "---  ------       --------------  ----- \n",
      " 0   id_venta     80000 non-null  object\n",
      " 1   id_producto  80000 non-null  object\n",
      " 2   cantidad     80000 non-null  int64 \n",
      " 3   fecha        80000 non-null  object\n",
      " 4   id_cliente   80000 non-null  object\n",
      " 5   nombre       80000 non-null  object\n",
      " 6   apellido     80000 non-null  object\n",
      " 7   ciudad       80000 non-null  object\n",
      " 8   precio       80000 non-null  object\n",
      " 9   categoria    80000 non-null  object\n",
      " 10  descripcion  80000 non-null  object\n",
      "dtypes: int64(1), object(10)\n",
      "memory usage: 6.7+ MB\n"
     ]
    }
   ],
   "source": [
    "merge2_dfs.info()"
   ]
  },
  {
   "cell_type": "code",
   "execution_count": 31,
   "metadata": {},
   "outputs": [
    {
     "data": {
      "text/html": [
       "<div>\n",
       "<style scoped>\n",
       "    .dataframe tbody tr th:only-of-type {\n",
       "        vertical-align: middle;\n",
       "    }\n",
       "\n",
       "    .dataframe tbody tr th {\n",
       "        vertical-align: top;\n",
       "    }\n",
       "\n",
       "    .dataframe thead th {\n",
       "        text-align: right;\n",
       "    }\n",
       "</style>\n",
       "<table border=\"1\" class=\"dataframe\">\n",
       "  <thead>\n",
       "    <tr style=\"text-align: right;\">\n",
       "      <th></th>\n",
       "      <th>id_venta</th>\n",
       "      <th>id_producto</th>\n",
       "      <th>cantidad</th>\n",
       "      <th>fecha</th>\n",
       "      <th>id_cliente</th>\n",
       "      <th>nombre</th>\n",
       "      <th>apellido</th>\n",
       "      <th>ciudad</th>\n",
       "      <th>precio</th>\n",
       "      <th>categoria</th>\n",
       "      <th>descripcion</th>\n",
       "      <th>pais</th>\n",
       "    </tr>\n",
       "  </thead>\n",
       "  <tbody>\n",
       "    <tr>\n",
       "      <th>0</th>\n",
       "      <td>V004849</td>\n",
       "      <td>P0173</td>\n",
       "      <td>4</td>\n",
       "      <td>2024-05-16</td>\n",
       "      <td>C0203</td>\n",
       "      <td>Lucía</td>\n",
       "      <td>González</td>\n",
       "      <td>Niza</td>\n",
       "      <td>58.91 €</td>\n",
       "      <td>Books</td>\n",
       "      <td>UASpWkt14nzeB6fkBDwO42wQiCijnSTcizwW1eB1yy0Rmy...</td>\n",
       "      <td>Francia</td>\n",
       "    </tr>\n",
       "  </tbody>\n",
       "</table>\n",
       "</div>"
      ],
      "text/plain": [
       "  id_venta id_producto  cantidad       fecha id_cliente nombre  apellido  \\\n",
       "0  V004849       P0173         4  2024-05-16      C0203  Lucía  González   \n",
       "\n",
       "  ciudad   precio categoria  \\\n",
       "0   Niza  58.91 €     Books   \n",
       "\n",
       "                                         descripcion     pais  \n",
       "0  UASpWkt14nzeB6fkBDwO42wQiCijnSTcizwW1eB1yy0Rmy...  Francia  "
      ]
     },
     "execution_count": 31,
     "metadata": {},
     "output_type": "execute_result"
    }
   ],
   "source": [
    "#Vamos a separarcolumnas siguiendo el proceso de normalizacion de una tabla:\n",
    "#Separaremos la columna ciudad en dos: ciudad y país.\n",
    "merge2_dfs[['ciudad','pais']]=merge2_dfs.ciudad.str.split(', ', expand=True)\n",
    "merge2_dfs.head(1)"
   ]
  },
  {
   "cell_type": "code",
   "execution_count": 33,
   "metadata": {},
   "outputs": [
    {
     "data": {
      "text/html": [
       "<div>\n",
       "<style scoped>\n",
       "    .dataframe tbody tr th:only-of-type {\n",
       "        vertical-align: middle;\n",
       "    }\n",
       "\n",
       "    .dataframe tbody tr th {\n",
       "        vertical-align: top;\n",
       "    }\n",
       "\n",
       "    .dataframe thead th {\n",
       "        text-align: right;\n",
       "    }\n",
       "</style>\n",
       "<table border=\"1\" class=\"dataframe\">\n",
       "  <thead>\n",
       "    <tr style=\"text-align: right;\">\n",
       "      <th></th>\n",
       "      <th>id_venta</th>\n",
       "      <th>id_producto</th>\n",
       "      <th>cantidad</th>\n",
       "      <th>fecha</th>\n",
       "      <th>id_cliente</th>\n",
       "      <th>nombre</th>\n",
       "      <th>apellido</th>\n",
       "      <th>ciudad</th>\n",
       "      <th>precio</th>\n",
       "      <th>categoria</th>\n",
       "      <th>descripcion</th>\n",
       "      <th>pais</th>\n",
       "    </tr>\n",
       "  </thead>\n",
       "  <tbody>\n",
       "    <tr>\n",
       "      <th>0</th>\n",
       "      <td>V004849</td>\n",
       "      <td>P0173</td>\n",
       "      <td>4</td>\n",
       "      <td>2024-05-16</td>\n",
       "      <td>C0203</td>\n",
       "      <td>Lucía</td>\n",
       "      <td>González</td>\n",
       "      <td>Niza</td>\n",
       "      <td>58.91</td>\n",
       "      <td>Books</td>\n",
       "      <td>UASpWkt14nzeB6fkBDwO42wQiCijnSTcizwW1eB1yy0Rmy...</td>\n",
       "      <td>Francia</td>\n",
       "    </tr>\n",
       "  </tbody>\n",
       "</table>\n",
       "</div>"
      ],
      "text/plain": [
       "  id_venta id_producto  cantidad       fecha id_cliente nombre  apellido  \\\n",
       "0  V004849       P0173         4  2024-05-16      C0203  Lucía  González   \n",
       "\n",
       "  ciudad  precio categoria                                        descripcion  \\\n",
       "0   Niza  58.91      Books  UASpWkt14nzeB6fkBDwO42wQiCijnSTcizwW1eB1yy0Rmy...   \n",
       "\n",
       "      pais  \n",
       "0  Francia  "
      ]
     },
     "execution_count": 33,
     "metadata": {},
     "output_type": "execute_result"
    }
   ],
   "source": [
    "#separaremos '€' de la columna precios y ccambiaremos su tipo de valor a float.\n",
    "merge2_dfs.precio=merge2_dfs.precio.str.replace('€','')\n",
    "merge2_dfs.head(1)"
   ]
  },
  {
   "cell_type": "code",
   "execution_count": 34,
   "metadata": {},
   "outputs": [],
   "source": [
    "merge2_dfs.precio=merge2_dfs.precio.astype(float)"
   ]
  },
  {
   "cell_type": "code",
   "execution_count": 36,
   "metadata": {},
   "outputs": [
    {
     "name": "stdout",
     "output_type": "stream",
     "text": [
      "<class 'pandas.core.frame.DataFrame'>\n",
      "RangeIndex: 80000 entries, 0 to 79999\n",
      "Data columns (total 12 columns):\n",
      " #   Column       Non-Null Count  Dtype  \n",
      "---  ------       --------------  -----  \n",
      " 0   id_venta     80000 non-null  object \n",
      " 1   id_producto  80000 non-null  object \n",
      " 2   cantidad     80000 non-null  int64  \n",
      " 3   fecha        80000 non-null  object \n",
      " 4   id_cliente   80000 non-null  object \n",
      " 5   nombre       80000 non-null  object \n",
      " 6   apellido     80000 non-null  object \n",
      " 7   ciudad       80000 non-null  object \n",
      " 8   precio       80000 non-null  float64\n",
      " 9   categoria    80000 non-null  object \n",
      " 10  descripcion  80000 non-null  object \n",
      " 11  pais         80000 non-null  object \n",
      "dtypes: float64(1), int64(1), object(10)\n",
      "memory usage: 7.3+ MB\n"
     ]
    }
   ],
   "source": [
    "merge2_dfs.info()"
   ]
  },
  {
   "cell_type": "code",
   "execution_count": 37,
   "metadata": {},
   "outputs": [],
   "source": [
    "#Procedemos a guardar el df _limpio:\n",
    "merge2_dfs.to_csv('clientes_productos_ventas.csv')"
   ]
  }
 ],
 "metadata": {
  "kernelspec": {
   "display_name": "base",
   "language": "python",
   "name": "python3"
  },
  "language_info": {
   "codemirror_mode": {
    "name": "ipython",
    "version": 3
   },
   "file_extension": ".py",
   "mimetype": "text/x-python",
   "name": "python",
   "nbconvert_exporter": "python",
   "pygments_lexer": "ipython3",
   "version": "undefined.undefined.undefined"
  }
 },
 "nbformat": 4,
 "nbformat_minor": 2
}
