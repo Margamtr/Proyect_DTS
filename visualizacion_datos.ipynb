{
 "cells": [
  {
   "cell_type": "code",
   "execution_count": 1,
   "metadata": {},
   "outputs": [],
   "source": [
    "#importamos librerias\n",
    "import pandas as pd    # Librería para tablas y tratamiento de datos.\n",
    "#Para una visualización completa de todas las columnas:\n",
    "pd.set_option('display.max_columns', None)\n",
    "#Accedemos a las funciones en soporte_dts de la carpeta src\n",
    "from src import soporte_dts as sdts\n",
    "import seaborn as sns\n",
    "import matplotlib.pyplot as plt\n",
    "from datetime import datetime"
   ]
  },
  {
   "cell_type": "code",
   "execution_count": 4,
   "metadata": {},
   "outputs": [
    {
     "name": "stderr",
     "output_type": "stream",
     "text": [
      "<>:1: SyntaxWarning: invalid escape sequence '\\ '\n",
      "<>:2: SyntaxWarning: invalid escape sequence '\\c'\n",
      "<>:3: SyntaxWarning: invalid escape sequence '\\m'\n",
      "<>:4: SyntaxWarning: invalid escape sequence '\\p'\n",
      "<>:1: SyntaxWarning: invalid escape sequence '\\ '\n",
      "<>:2: SyntaxWarning: invalid escape sequence '\\c'\n",
      "<>:3: SyntaxWarning: invalid escape sequence '\\m'\n",
      "<>:4: SyntaxWarning: invalid escape sequence '\\p'\n",
      "C:\\Users\\marg_\\AppData\\Local\\Temp\\ipykernel_14020\\1386478319.py:1: SyntaxWarning: invalid escape sequence '\\ '\n",
      "  df_ventas=sdts.leer_datos('csv_limpios_finales\\ ventas_informacion.csv')\n",
      "C:\\Users\\marg_\\AppData\\Local\\Temp\\ipykernel_14020\\1386478319.py:2: SyntaxWarning: invalid escape sequence '\\c'\n",
      "  df_clientes=sdts.leer_datos('csv_limpios_finales\\clientes_información.csv')\n",
      "C:\\Users\\marg_\\AppData\\Local\\Temp\\ipykernel_14020\\1386478319.py:3: SyntaxWarning: invalid escape sequence '\\m'\n",
      "  df_metricas=sdts.leer_datos('csv_limpios_finales\\metricas_cliente.csv')\n",
      "C:\\Users\\marg_\\AppData\\Local\\Temp\\ipykernel_14020\\1386478319.py:4: SyntaxWarning: invalid escape sequence '\\p'\n",
      "  df_productos=sdts.leer_datos('csv_limpios_finales\\productos_informacion.csv')\n"
     ]
    }
   ],
   "source": [
    "df_ventas=sdts.leer_datos('csv_limpios_finales\\ ventas_informacion.csv')\n",
    "df_clientes=sdts.leer_datos('csv_limpios_finales\\clientes_información.csv')\n",
    "df_metricas=sdts.leer_datos('csv_limpios_finales\\metricas_cliente.csv')\n",
    "df_productos=sdts.leer_datos('csv_limpios_finales\\productos_informacion.csv')"
   ]
  },
  {
   "cell_type": "code",
   "execution_count": 7,
   "metadata": {},
   "outputs": [
    {
     "name": "stdout",
     "output_type": "stream",
     "text": [
      "<class 'pandas.core.frame.DataFrame'>\n",
      "RangeIndex: 79920 entries, 0 to 79919\n",
      "Data columns (total 7 columns):\n",
      " #   Column             Non-Null Count  Dtype  \n",
      "---  ------             --------------  -----  \n",
      " 0   Unnamed: 0         79920 non-null  int64  \n",
      " 1   id_venta           79920 non-null  object \n",
      " 2   id_producto        79920 non-null  object \n",
      " 3   id_cliente         79920 non-null  object \n",
      " 4   cantidad           79920 non-null  int64  \n",
      " 5   fecha              79920 non-null  object \n",
      " 6   valor_total_venta  79920 non-null  float64\n",
      "dtypes: float64(1), int64(2), object(4)\n",
      "memory usage: 4.3+ MB\n"
     ]
    }
   ],
   "source": [
    "df_ventas.info()"
   ]
  },
  {
   "cell_type": "code",
   "execution_count": null,
   "metadata": {},
   "outputs": [],
   "source": []
  },
  {
   "cell_type": "markdown",
   "metadata": {},
   "source": [
    "Vamos a juntar los DatafFrame para poder realizar las visualizaciones:"
   ]
  },
  {
   "cell_type": "code",
   "execution_count": 8,
   "metadata": {},
   "outputs": [],
   "source": [
    "df_ventas_productos=df_ventas.merge(df_productos, on='id_producto')"
   ]
  },
  {
   "cell_type": "code",
   "execution_count": 9,
   "metadata": {},
   "outputs": [],
   "source": [
    "df_cliente_venta=df_clientes.merge(df_ventas, on='id_cliente')\n",
    "df_cliente_venta_metricas=df_cliente_venta.merge(df_metricas, on='id_cliente')"
   ]
  }
 ],
 "metadata": {
  "kernelspec": {
   "display_name": "base",
   "language": "python",
   "name": "python3"
  },
  "language_info": {
   "codemirror_mode": {
    "name": "ipython",
    "version": 3
   },
   "file_extension": ".py",
   "mimetype": "text/x-python",
   "name": "python",
   "nbconvert_exporter": "python",
   "pygments_lexer": "ipython3",
   "version": "3.12.4"
  }
 },
 "nbformat": 4,
 "nbformat_minor": 2
}
