{
 "cells": [
  {
   "cell_type": "code",
   "execution_count": 1,
   "metadata": {},
   "outputs": [],
   "source": [
    "#importamos librerias\n",
    "import pandas as pd    # Librería para tablas y tratamiento de datos.\n",
    "#Para una visualización completa de todas las columnas:\n",
    "pd.set_option('display.max_columns', None)\n",
    "#Accedemos a las funciones en soporte_dts de la carpeta src\n",
    "from src import soporte_dts as sdts\n",
    "import seaborn as sns\n",
    "import matplotlib.pyplot as plt\n",
    "from datetime import datetime"
   ]
  },
  {
   "cell_type": "code",
   "execution_count": 2,
   "metadata": {},
   "outputs": [],
   "source": [
    "df_ventas_prod_client=sdts.leer_datos('csv_limpios_finales/clientes_productos_ventas_limpio.csv')\n",
    "df_clientes=sdts.leer_datos('csv_iniciales/clientes.csv')\n",
    "df_metricas=sdts.leer_datos('csv_limpios_finales/metricas_cliente.csv')\n",
    "df_productos=sdts.leer_datos('csv_iniciales/productos.csv')"
   ]
  },
  {
   "cell_type": "markdown",
   "metadata": {},
   "source": [
    "Los csv iniciales de clientes y productos, no presentan duplicados y se encuentran limpios,. Paras la informaciín que sacaremos de ellos."
   ]
  },
  {
   "cell_type": "markdown",
   "metadata": {},
   "source": [
    "## INFORMACION CLIENTES"
   ]
  },
  {
   "cell_type": "code",
   "execution_count": 3,
   "metadata": {},
   "outputs": [
    {
     "name": "stdout",
     "output_type": "stream",
     "text": [
      "Numero de clientes registrados es:300\n"
     ]
    }
   ],
   "source": [
    "#Obtenemos el numero de clientes:\n",
    "print(f'Numero de clientes registrados es:{df_clientes.shape[0]}')\n",
    "#Obtenemos el numero de clientes distintos que han efectuado alguna compra:\n"
   ]
  },
  {
   "cell_type": "code",
   "execution_count": 4,
   "metadata": {},
   "outputs": [
    {
     "name": "stdout",
     "output_type": "stream",
     "text": [
      "Numero de filas de df ventas: 79920 filas\n",
      "Numero de filas de df productos: 600 filas\n",
      "Numero de filas de df clientes: 300 filas\n",
      "Numero de filas de df metricas: 210 filas\n"
     ]
    }
   ],
   "source": [
    "#revisamos el numero de filas:\n",
    "data=[df_ventas_prod_client,df_productos,df_clientes,df_metricas]\n",
    "nombre=['ventas','productos','clientes','metricas']\n",
    "for i in range(0,len(nombre)):\n",
    "        sdts.numero_filas(data[i],nombre[i])"
   ]
  },
  {
   "cell_type": "code",
   "execution_count": 7,
   "metadata": {},
   "outputs": [
    {
     "name": "stdout",
     "output_type": "stream",
     "text": [
      "Id_clientes distintos que han realizado alguna transacción: 210\n"
     ]
    }
   ],
   "source": [
    "numero_clientes_ventas=df_ventas_prod_client['id_cliente'].nunique()\n",
    "print('Id_clientes distintos que han realizado alguna transacción:', numero_clientes_ventas)"
   ]
  },
  {
   "cell_type": "code",
   "execution_count": 9,
   "metadata": {},
   "outputs": [
    {
     "name": "stdout",
     "output_type": "stream",
     "text": [
      "Porcentaje de clientes registrados que han realizado alguna compra o transacción es de 70.0 %\n"
     ]
    }
   ],
   "source": [
    "print(f'Porcentaje de clientes registrados que han realizado alguna compra o transacción es de {numero_clientes_ventas/df_clientes.shape[0]*100} %')"
   ]
  },
  {
   "cell_type": "code",
   "execution_count": null,
   "metadata": {},
   "outputs": [],
   "source": [
    "#Creamos un df que indique si un cliente s activo( ha realizado alguna compra o no)\n",
    "df_actividad_clientes=df_metricas.merge(right=df_clientes, how='right',on='id_cliente')[['id_cliente','primera_compra']]\n",
    "df_actividad_clientes['actividad']=df_actividad_clientes['primera_compra'].apply(lambda x: 'No' if pd.isna(x) else 'yes')"
   ]
  },
  {
   "cell_type": "code",
   "execution_count": 25,
   "metadata": {},
   "outputs": [
    {
     "data": {
      "text/html": [
       "<div>\n",
       "<style scoped>\n",
       "    .dataframe tbody tr th:only-of-type {\n",
       "        vertical-align: middle;\n",
       "    }\n",
       "\n",
       "    .dataframe tbody tr th {\n",
       "        vertical-align: top;\n",
       "    }\n",
       "\n",
       "    .dataframe thead th {\n",
       "        text-align: right;\n",
       "    }\n",
       "</style>\n",
       "<table border=\"1\" class=\"dataframe\">\n",
       "  <thead>\n",
       "    <tr style=\"text-align: right;\">\n",
       "      <th></th>\n",
       "      <th>id_cliente</th>\n",
       "      <th>primera_compra</th>\n",
       "      <th>actividad</th>\n",
       "    </tr>\n",
       "  </thead>\n",
       "  <tbody>\n",
       "    <tr>\n",
       "      <th>193</th>\n",
       "      <td>C0194</td>\n",
       "      <td>2020-01-09</td>\n",
       "      <td>yes</td>\n",
       "    </tr>\n",
       "    <tr>\n",
       "      <th>275</th>\n",
       "      <td>C0276</td>\n",
       "      <td>2020-01-14</td>\n",
       "      <td>yes</td>\n",
       "    </tr>\n",
       "    <tr>\n",
       "      <th>264</th>\n",
       "      <td>C0265</td>\n",
       "      <td>2020-02-02</td>\n",
       "      <td>yes</td>\n",
       "    </tr>\n",
       "    <tr>\n",
       "      <th>29</th>\n",
       "      <td>C0030</td>\n",
       "      <td>2020-02-11</td>\n",
       "      <td>yes</td>\n",
       "    </tr>\n",
       "    <tr>\n",
       "      <th>180</th>\n",
       "      <td>C0181</td>\n",
       "      <td>2020-01-25</td>\n",
       "      <td>yes</td>\n",
       "    </tr>\n",
       "    <tr>\n",
       "      <th>234</th>\n",
       "      <td>C0235</td>\n",
       "      <td>NaN</td>\n",
       "      <td>No</td>\n",
       "    </tr>\n",
       "    <tr>\n",
       "      <th>123</th>\n",
       "      <td>C0124</td>\n",
       "      <td>2020-01-02</td>\n",
       "      <td>yes</td>\n",
       "    </tr>\n",
       "    <tr>\n",
       "      <th>220</th>\n",
       "      <td>C0221</td>\n",
       "      <td>2020-02-16</td>\n",
       "      <td>yes</td>\n",
       "    </tr>\n",
       "    <tr>\n",
       "      <th>197</th>\n",
       "      <td>C0198</td>\n",
       "      <td>2020-01-29</td>\n",
       "      <td>yes</td>\n",
       "    </tr>\n",
       "    <tr>\n",
       "      <th>39</th>\n",
       "      <td>C0040</td>\n",
       "      <td>NaN</td>\n",
       "      <td>No</td>\n",
       "    </tr>\n",
       "  </tbody>\n",
       "</table>\n",
       "</div>"
      ],
      "text/plain": [
       "    id_cliente primera_compra actividad\n",
       "193      C0194     2020-01-09       yes\n",
       "275      C0276     2020-01-14       yes\n",
       "264      C0265     2020-02-02       yes\n",
       "29       C0030     2020-02-11       yes\n",
       "180      C0181     2020-01-25       yes\n",
       "234      C0235            NaN        No\n",
       "123      C0124     2020-01-02       yes\n",
       "220      C0221     2020-02-16       yes\n",
       "197      C0198     2020-01-29       yes\n",
       "39       C0040            NaN        No"
      ]
     },
     "execution_count": 25,
     "metadata": {},
     "output_type": "execute_result"
    }
   ],
   "source": [
    "df_actividad_clientes.sample(10)"
   ]
  },
  {
   "cell_type": "code",
   "execution_count": 31,
   "metadata": {},
   "outputs": [],
   "source": [
    "df_actividad_agrupado=df_actividad_clientes.groupby('actividad')['id_cliente'].count().reset_index()"
   ]
  },
  {
   "cell_type": "code",
   "execution_count": 32,
   "metadata": {},
   "outputs": [
    {
     "data": {
      "text/html": [
       "<div>\n",
       "<style scoped>\n",
       "    .dataframe tbody tr th:only-of-type {\n",
       "        vertical-align: middle;\n",
       "    }\n",
       "\n",
       "    .dataframe tbody tr th {\n",
       "        vertical-align: top;\n",
       "    }\n",
       "\n",
       "    .dataframe thead th {\n",
       "        text-align: right;\n",
       "    }\n",
       "</style>\n",
       "<table border=\"1\" class=\"dataframe\">\n",
       "  <thead>\n",
       "    <tr style=\"text-align: right;\">\n",
       "      <th></th>\n",
       "      <th>actividad</th>\n",
       "      <th>id_cliente</th>\n",
       "    </tr>\n",
       "  </thead>\n",
       "  <tbody>\n",
       "    <tr>\n",
       "      <th>0</th>\n",
       "      <td>No</td>\n",
       "      <td>90</td>\n",
       "    </tr>\n",
       "    <tr>\n",
       "      <th>1</th>\n",
       "      <td>yes</td>\n",
       "      <td>210</td>\n",
       "    </tr>\n",
       "  </tbody>\n",
       "</table>\n",
       "</div>"
      ],
      "text/plain": [
       "  actividad  id_cliente\n",
       "0        No          90\n",
       "1       yes         210"
      ]
     },
     "execution_count": 32,
     "metadata": {},
     "output_type": "execute_result"
    }
   ],
   "source": [
    "df_actividad_agrupado"
   ]
  },
  {
   "cell_type": "code",
   "execution_count": 35,
   "metadata": {},
   "outputs": [
    {
     "data": {
      "image/png": "[encoded data removed]",
      "text/plain": [
       "<Figure size 640x480 with 1 Axes>"
      ]
     },
     "metadata": {},
     "output_type": "display_data"
    }
   ],
   "source": [
    "colores=[\"seagreen\",\"teal\"]\n",
    "plt.pie('id_cliente', labels='actividad',\n",
    "        data=df_actividad_agrupado,\n",
    "        autopct='%1.1f%%',\n",
    "        colors=colores,\n",
    "        textprops={'fontsize':8},\n",
    "        startangle=90);"
   ]
  },
  {
   "cell_type": "markdown",
   "metadata": {},
   "source": [
    "El 30% de losa clientes registrados no ha relizado ninguna compra.\n",
    "Sacamos aquellos registros de clientes que no han realizado compra para acciones de MKT:\n",
    "-¿Por qué no han realizado ninguna compra?"
   ]
  }
 ],
 "metadata": {
  "kernelspec": {
   "display_name": "base",
   "language": "python",
   "name": "python3"
  },
  "language_info": {
   "codemirror_mode": {
    "name": "ipython",
    "version": 3
   },
   "file_extension": ".py",
   "mimetype": "text/x-python",
   "name": "python",
   "nbconvert_exporter": "python",
   "pygments_lexer": "ipython3",
   "version": "3.12.4"
  }
 },
 "nbformat": 4,
 "nbformat_minor": 2
}
