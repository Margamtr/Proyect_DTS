{
 "cells": [
  {
   "cell_type": "code",
   "execution_count": 1,
   "metadata": {},
   "outputs": [],
   "source": [
    "#importamos librerias\n",
    "import pandas as pd    # Librería para tablas y tratamiento de datos.\n",
    "#Para una visualización completa de todas las columnas:\n",
    "pd.set_option('display.max_columns', None)\n",
    "#Accedemos a las funciones en soporte_dts de la carpeta src\n",
    "from src import soporte_dts as sdts\n",
    "import seaborn as sns\n",
    "import matplotlib.pyplot as plt\n",
    "from datetime import datetime"
   ]
  },
  {
   "cell_type": "code",
   "execution_count": 2,
   "metadata": {},
   "outputs": [
    {
     "name": "stderr",
     "output_type": "stream",
     "text": [
      "<>:1: SyntaxWarning: invalid escape sequence '\\ '\n",
      "<>:2: SyntaxWarning: invalid escape sequence '\\c'\n",
      "<>:3: SyntaxWarning: invalid escape sequence '\\m'\n",
      "<>:4: SyntaxWarning: invalid escape sequence '\\p'\n",
      "<>:1: SyntaxWarning: invalid escape sequence '\\ '\n",
      "<>:2: SyntaxWarning: invalid escape sequence '\\c'\n",
      "<>:3: SyntaxWarning: invalid escape sequence '\\m'\n",
      "<>:4: SyntaxWarning: invalid escape sequence '\\p'\n",
      "C:\\Users\\marg_\\AppData\\Local\\Temp\\ipykernel_8292\\1386478319.py:1: SyntaxWarning: invalid escape sequence '\\ '\n",
      "  df_ventas=sdts.leer_datos('csv_limpios_finales\\ ventas_informacion.csv')\n",
      "C:\\Users\\marg_\\AppData\\Local\\Temp\\ipykernel_8292\\1386478319.py:2: SyntaxWarning: invalid escape sequence '\\c'\n",
      "  df_clientes=sdts.leer_datos('csv_limpios_finales\\clientes_información.csv')\n",
      "C:\\Users\\marg_\\AppData\\Local\\Temp\\ipykernel_8292\\1386478319.py:3: SyntaxWarning: invalid escape sequence '\\m'\n",
      "  df_metricas=sdts.leer_datos('csv_limpios_finales\\metricas_cliente.csv')\n",
      "C:\\Users\\marg_\\AppData\\Local\\Temp\\ipykernel_8292\\1386478319.py:4: SyntaxWarning: invalid escape sequence '\\p'\n",
      "  df_productos=sdts.leer_datos('csv_limpios_finales\\productos_informacion.csv')\n"
     ]
    }
   ],
   "source": [
    "df_ventas=sdts.leer_datos('csv_limpios_finales\\ ventas_informacion.csv')\n",
    "df_clientes=sdts.leer_datos('csv_limpios_finales\\clientes_información.csv')\n",
    "df_metricas=sdts.leer_datos('csv_limpios_finales\\metricas_cliente.csv')\n",
    "df_productos=sdts.leer_datos('csv_limpios_finales\\productos_informacion.csv')"
   ]
  },
  {
   "cell_type": "markdown",
   "metadata": {},
   "source": [
    "Vamos a juntar los DatafFrame para poder realizar las visualizaciones:"
   ]
  },
  {
   "cell_type": "markdown",
   "metadata": {},
   "source": []
  }
 ],
 "metadata": {
  "kernelspec": {
   "display_name": "base",
   "language": "python",
   "name": "python3"
  },
  "language_info": {
   "codemirror_mode": {
    "name": "ipython",
    "version": 3
   },
   "file_extension": ".py",
   "mimetype": "text/x-python",
   "name": "python",
   "nbconvert_exporter": "python",
   "pygments_lexer": "ipython3",
   "version": "3.12.4"
  }
 },
 "nbformat": 4,
 "nbformat_minor": 2
}
