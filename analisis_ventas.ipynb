{
 "cells": [
  {
   "cell_type": "markdown",
   "metadata": {},
   "source": [
    "CREAMOS LAS MÉTRICA PARA EL ANÁLISIS DE VENTAS.\n",
    "\n",
    "De las tablas ventas podemos determinar:\n",
    "-los valores totales de cada venta\n",
    "-la fecha de la primera y última compra\n",
    "-Compras por cliente.\n",
    "-Actividad por día, mes y año."
   ]
  },
  {
   "cell_type": "code",
   "execution_count": 1,
   "metadata": {},
   "outputs": [],
   "source": [
    "#importamos librerias\n",
    "import pandas as pd    # Librería para tablas y tratamiento de datos.\n",
    "#Para una visualización completa de todas las columnas:\n",
    "pd.set_option('display.max_columns', None)\n",
    "#Accedemos a las funciones en soporte_dts de la carpeta src\n",
    "from src import soporte_dts as sdts\n",
    "import seaborn as sns\n",
    "import matplotlib.pyplot as plt\n",
    "from datetime import datetime"
   ]
  },
  {
   "cell_type": "code",
   "execution_count": 2,
   "metadata": {},
   "outputs": [],
   "source": [
    "df_ventas_cliente_prod=sdts.leer_datos('clientes_productos_ventas_limpio.csv')"
   ]
  },
  {
   "cell_type": "code",
   "execution_count": 3,
   "metadata": {},
   "outputs": [
    {
     "data": {
      "text/plain": [
       "Index(['id_venta', 'id_producto', 'cantidad', 'fecha', 'id_cliente', 'nombre',\n",
       "       'apellido', 'ciudad', 'precio', 'categoria', 'descripcion', 'pais',\n",
       "       'valor_total_venta'],\n",
       "      dtype='object')"
      ]
     },
     "execution_count": 3,
     "metadata": {},
     "output_type": "execute_result"
    }
   ],
   "source": [
    "df_ventas_cliente_prod.columns"
   ]
  },
  {
   "cell_type": "code",
   "execution_count": 4,
   "metadata": {},
   "outputs": [],
   "source": [
    "#Añadimos columna para determinar el dia de la semana que se realizan las compras:\n",
    "df_ventas_cliente_prod['fecha']=pd.to_datetime(df_ventas_cliente_prod['fecha'])"
   ]
  },
  {
   "cell_type": "code",
   "execution_count": 5,
   "metadata": {},
   "outputs": [],
   "source": [
    "df_ventas_cliente_prod['dia_semana_venta']=df_ventas_cliente_prod['fecha'].dt.dayofweek"
   ]
  },
  {
   "cell_type": "code",
   "execution_count": 6,
   "metadata": {},
   "outputs": [
    {
     "data": {
      "text/html": [
       "<div>\n",
       "<style scoped>\n",
       "    .dataframe tbody tr th:only-of-type {\n",
       "        vertical-align: middle;\n",
       "    }\n",
       "\n",
       "    .dataframe tbody tr th {\n",
       "        vertical-align: top;\n",
       "    }\n",
       "\n",
       "    .dataframe thead th {\n",
       "        text-align: right;\n",
       "    }\n",
       "</style>\n",
       "<table border=\"1\" class=\"dataframe\">\n",
       "  <thead>\n",
       "    <tr style=\"text-align: right;\">\n",
       "      <th></th>\n",
       "      <th>id_venta</th>\n",
       "      <th>id_producto</th>\n",
       "      <th>cantidad</th>\n",
       "      <th>fecha</th>\n",
       "      <th>id_cliente</th>\n",
       "      <th>nombre</th>\n",
       "      <th>apellido</th>\n",
       "      <th>ciudad</th>\n",
       "      <th>precio</th>\n",
       "      <th>categoria</th>\n",
       "      <th>descripcion</th>\n",
       "      <th>pais</th>\n",
       "      <th>valor_total_venta</th>\n",
       "      <th>dia_semana_venta</th>\n",
       "    </tr>\n",
       "  </thead>\n",
       "  <tbody>\n",
       "    <tr>\n",
       "      <th>63814</th>\n",
       "      <td>V003665</td>\n",
       "      <td>P0554</td>\n",
       "      <td>1</td>\n",
       "      <td>2024-04-28</td>\n",
       "      <td>C0224</td>\n",
       "      <td>Laura</td>\n",
       "      <td>García</td>\n",
       "      <td>Madrid</td>\n",
       "      <td>42.83</td>\n",
       "      <td>Clothing</td>\n",
       "      <td>TteUZNrAl3eMlXFKxQwANOsFAYtLgZlpmzs16dWxnqHsUI...</td>\n",
       "      <td>España</td>\n",
       "      <td>42.83</td>\n",
       "      <td>6</td>\n",
       "    </tr>\n",
       "    <tr>\n",
       "      <th>64944</th>\n",
       "      <td>V000510</td>\n",
       "      <td>P0200</td>\n",
       "      <td>3</td>\n",
       "      <td>2021-10-21</td>\n",
       "      <td>C0042</td>\n",
       "      <td>María</td>\n",
       "      <td>Pérez</td>\n",
       "      <td>Madrid</td>\n",
       "      <td>6.67</td>\n",
       "      <td>Home &amp; Kitchen</td>\n",
       "      <td>hSrOMW6t6yrKnapDLYDVKXsiE4b759i5h8GjGTTmXsSXyN...</td>\n",
       "      <td>España</td>\n",
       "      <td>20.01</td>\n",
       "      <td>3</td>\n",
       "    </tr>\n",
       "  </tbody>\n",
       "</table>\n",
       "</div>"
      ],
      "text/plain": [
       "      id_venta id_producto  cantidad      fecha id_cliente nombre apellido  \\\n",
       "63814  V003665       P0554         1 2024-04-28      C0224  Laura   García   \n",
       "64944  V000510       P0200         3 2021-10-21      C0042  María    Pérez   \n",
       "\n",
       "       ciudad  precio       categoria  \\\n",
       "63814  Madrid   42.83        Clothing   \n",
       "64944  Madrid    6.67  Home & Kitchen   \n",
       "\n",
       "                                             descripcion    pais  \\\n",
       "63814  TteUZNrAl3eMlXFKxQwANOsFAYtLgZlpmzs16dWxnqHsUI...  España   \n",
       "64944  hSrOMW6t6yrKnapDLYDVKXsiE4b759i5h8GjGTTmXsSXyN...  España   \n",
       "\n",
       "       valor_total_venta  dia_semana_venta  \n",
       "63814              42.83                 6  \n",
       "64944              20.01                 3  "
      ]
     },
     "execution_count": 6,
     "metadata": {},
     "output_type": "execute_result"
    }
   ],
   "source": [
    "#añadimos una nueva columna donde calculamos el valor de cada venta:\n",
    "df_ventas_cliente_prod['valor_total_venta']=df_ventas_cliente_prod['cantidad']*df_ventas_cliente_prod['precio']\n",
    "df_ventas_cliente_prod.sample(2)"
   ]
  },
  {
   "cell_type": "code",
   "execution_count": 7,
   "metadata": {},
   "outputs": [],
   "source": [
    "#Procedemos a guardar el df _limpio:\n",
    "df_ventas_cliente_prod.to_csv('clientes_productos_ventas_limpio.csv',index=False)"
   ]
  },
  {
   "cell_type": "code",
   "execution_count": 8,
   "metadata": {},
   "outputs": [],
   "source": [
    "# agruparemos la columna clientes y determinaremos lafecha asociada minima y máxima, el numero de ventas registras, y el \n",
    "#Creamos un Dataframe con las métricas que podemos extraer de los datos:\n",
    "#aplicamos diferentes funcioones de agregación por columna:\n",
    "metricas_clientes=df_ventas_cliente_prod.groupby('id_cliente', as_index=False).agg({'fecha':['min','max'],'id_venta':'nunique','valor_total_venta':'sum'})\n",
    "metricas_clientes.columns=['id_cliente','primera_compra','ultima_compra','numero_compras','valor_total']\n"
   ]
  },
  {
   "cell_type": "code",
   "execution_count": 9,
   "metadata": {},
   "outputs": [
    {
     "name": "stdout",
     "output_type": "stream",
     "text": [
      "<class 'pandas.core.frame.DataFrame'>\n",
      "RangeIndex: 210 entries, 0 to 209\n",
      "Data columns (total 5 columns):\n",
      " #   Column          Non-Null Count  Dtype         \n",
      "---  ------          --------------  -----         \n",
      " 0   id_cliente      210 non-null    object        \n",
      " 1   primera_compra  210 non-null    datetime64[ns]\n",
      " 2   ultima_compra   210 non-null    datetime64[ns]\n",
      " 3   numero_compras  210 non-null    int64         \n",
      " 4   valor_total     210 non-null    float64       \n",
      "dtypes: datetime64[ns](2), float64(1), int64(1), object(1)\n",
      "memory usage: 8.3+ KB\n"
     ]
    }
   ],
   "source": [
    "metricas_clientes.info()"
   ]
  },
  {
   "cell_type": "code",
   "execution_count": 10,
   "metadata": {},
   "outputs": [],
   "source": [
    "#Obtenemos informacion adicional a partir de las fechas: para ello debemos modificar el tiopo de dat object a datatime:\n",
    "\n",
    "\n",
    "metricas_clientes['primera_compra']=pd.to_datetime(metricas_clientes['primera_compra'])\n",
    "metricas_clientes['ultima_compra']=pd.to_datetime(metricas_clientes['ultima_compra'])"
   ]
  },
  {
   "cell_type": "code",
   "execution_count": 11,
   "metadata": {},
   "outputs": [],
   "source": [
    "#Creamos columnas con año dia y fecha de cada transacción:\n",
    "metricas_clientes['dia_primera_compra']=metricas_clientes['primera_compra'].dt.day\n",
    "metricas_clientes['mes_primera_compra']=metricas_clientes['primera_compra'].dt.month\n",
    "metricas_clientes['año_primera_compra']=metricas_clientes['primera_compra'].dt.year\n",
    "\n",
    "metricas_clientes['dia_ultima_compra']=metricas_clientes['ultima_compra'].dt.day\n",
    "metricas_clientes['mes_ultima_compra']=metricas_clientes['ultima_compra'].dt.month\n",
    "metricas_clientes['año_ultima_compra']=metricas_clientes['ultima_compra'].dt.year"
   ]
  },
  {
   "cell_type": "code",
   "execution_count": 12,
   "metadata": {},
   "outputs": [
    {
     "data": {
      "text/html": [
       "<div>\n",
       "<style scoped>\n",
       "    .dataframe tbody tr th:only-of-type {\n",
       "        vertical-align: middle;\n",
       "    }\n",
       "\n",
       "    .dataframe tbody tr th {\n",
       "        vertical-align: top;\n",
       "    }\n",
       "\n",
       "    .dataframe thead th {\n",
       "        text-align: right;\n",
       "    }\n",
       "</style>\n",
       "<table border=\"1\" class=\"dataframe\">\n",
       "  <thead>\n",
       "    <tr style=\"text-align: right;\">\n",
       "      <th></th>\n",
       "      <th>id_cliente</th>\n",
       "      <th>primera_compra</th>\n",
       "      <th>ultima_compra</th>\n",
       "      <th>numero_compras</th>\n",
       "      <th>valor_total</th>\n",
       "      <th>dia_primera_compra</th>\n",
       "      <th>mes_primera_compra</th>\n",
       "      <th>año_primera_compra</th>\n",
       "      <th>dia_ultima_compra</th>\n",
       "      <th>mes_ultima_compra</th>\n",
       "      <th>año_ultima_compra</th>\n",
       "    </tr>\n",
       "  </thead>\n",
       "  <tbody>\n",
       "    <tr>\n",
       "      <th>206</th>\n",
       "      <td>C0295</td>\n",
       "      <td>2020-02-04</td>\n",
       "      <td>2024-07-03</td>\n",
       "      <td>24</td>\n",
       "      <td>61059.30</td>\n",
       "      <td>4</td>\n",
       "      <td>2</td>\n",
       "      <td>2020</td>\n",
       "      <td>3</td>\n",
       "      <td>7</td>\n",
       "      <td>2024</td>\n",
       "    </tr>\n",
       "    <tr>\n",
       "      <th>202</th>\n",
       "      <td>C0285</td>\n",
       "      <td>2020-01-11</td>\n",
       "      <td>2024-03-29</td>\n",
       "      <td>39</td>\n",
       "      <td>109046.80</td>\n",
       "      <td>11</td>\n",
       "      <td>1</td>\n",
       "      <td>2020</td>\n",
       "      <td>29</td>\n",
       "      <td>3</td>\n",
       "      <td>2024</td>\n",
       "    </tr>\n",
       "    <tr>\n",
       "      <th>95</th>\n",
       "      <td>C0142</td>\n",
       "      <td>2020-02-01</td>\n",
       "      <td>2024-07-04</td>\n",
       "      <td>35</td>\n",
       "      <td>95321.43</td>\n",
       "      <td>1</td>\n",
       "      <td>2</td>\n",
       "      <td>2020</td>\n",
       "      <td>4</td>\n",
       "      <td>7</td>\n",
       "      <td>2024</td>\n",
       "    </tr>\n",
       "    <tr>\n",
       "      <th>139</th>\n",
       "      <td>C0203</td>\n",
       "      <td>2020-01-13</td>\n",
       "      <td>2024-06-05</td>\n",
       "      <td>38</td>\n",
       "      <td>107605.43</td>\n",
       "      <td>13</td>\n",
       "      <td>1</td>\n",
       "      <td>2020</td>\n",
       "      <td>5</td>\n",
       "      <td>6</td>\n",
       "      <td>2024</td>\n",
       "    </tr>\n",
       "    <tr>\n",
       "      <th>28</th>\n",
       "      <td>C0043</td>\n",
       "      <td>2020-01-06</td>\n",
       "      <td>2024-05-16</td>\n",
       "      <td>42</td>\n",
       "      <td>115738.11</td>\n",
       "      <td>6</td>\n",
       "      <td>1</td>\n",
       "      <td>2020</td>\n",
       "      <td>16</td>\n",
       "      <td>5</td>\n",
       "      <td>2024</td>\n",
       "    </tr>\n",
       "  </tbody>\n",
       "</table>\n",
       "</div>"
      ],
      "text/plain": [
       "    id_cliente primera_compra ultima_compra  numero_compras  valor_total  \\\n",
       "206      C0295     2020-02-04    2024-07-03              24     61059.30   \n",
       "202      C0285     2020-01-11    2024-03-29              39    109046.80   \n",
       "95       C0142     2020-02-01    2024-07-04              35     95321.43   \n",
       "139      C0203     2020-01-13    2024-06-05              38    107605.43   \n",
       "28       C0043     2020-01-06    2024-05-16              42    115738.11   \n",
       "\n",
       "     dia_primera_compra  mes_primera_compra  año_primera_compra  \\\n",
       "206                   4                   2                2020   \n",
       "202                  11                   1                2020   \n",
       "95                    1                   2                2020   \n",
       "139                  13                   1                2020   \n",
       "28                    6                   1                2020   \n",
       "\n",
       "     dia_ultima_compra  mes_ultima_compra  año_ultima_compra  \n",
       "206                  3                  7               2024  \n",
       "202                 29                  3               2024  \n",
       "95                   4                  7               2024  \n",
       "139                  5                  6               2024  \n",
       "28                  16                  5               2024  "
      ]
     },
     "execution_count": 12,
     "metadata": {},
     "output_type": "execute_result"
    }
   ],
   "source": [
    "metricas_clientes.sample(5)\n"
   ]
  },
  {
   "cell_type": "code",
   "execution_count": 13,
   "metadata": {},
   "outputs": [],
   "source": [
    "#Calculamos la antiguedad en días con respecto a la fecha actual\n",
    "metricas_clientes['antiguedad_dias']=(datetime.today()-metricas_clientes['primera_compra']).dt.days\n",
    "\n"
   ]
  },
  {
   "cell_type": "code",
   "execution_count": 14,
   "metadata": {},
   "outputs": [
    {
     "name": "stderr",
     "output_type": "stream",
     "text": [
      "C:\\Users\\marg_\\AppData\\Local\\Temp\\ipykernel_21172\\2051430706.py:3: FutureWarning: the convert_dtype parameter is deprecated and will be removed in a future version.  Do ``ser.astype(object).apply()`` instead if you want ``convert_dtype=False``.\n",
      "  metricas_clientes['actividad_meses']=metricas_clientes['actividad_dias'].apply(lambda x: round(x/30),1)\n",
      "C:\\Users\\marg_\\AppData\\Local\\Temp\\ipykernel_21172\\2051430706.py:4: FutureWarning: the convert_dtype parameter is deprecated and will be removed in a future version.  Do ``ser.astype(object).apply()`` instead if you want ``convert_dtype=False``.\n",
      "  metricas_clientes['actividad_años']=metricas_clientes['actividad_meses'].apply(lambda x: round(x/12),1)\n"
     ]
    }
   ],
   "source": [
    "#Calculamos el tiempo de actividad y la frecuencia( nºcompras/tiempo de actividad)\n",
    "metricas_clientes['actividad_dias']=(metricas_clientes['ultima_compra']-metricas_clientes['primera_compra']).dt.days\n",
    "metricas_clientes['actividad_meses']=metricas_clientes['actividad_dias'].apply(lambda x: round(x/30),1)\n",
    "metricas_clientes['actividad_años']=metricas_clientes['actividad_meses'].apply(lambda x: round(x/12),1)\n",
    "metricas_clientes['compras_por_mes']=metricas_clientes['numero_compras']/metricas_clientes['actividad_meses']\n",
    "metricas_clientes['compras_por_año']=metricas_clientes['numero_compras']/metricas_clientes['actividad_años']"
   ]
  },
  {
   "cell_type": "code",
   "execution_count": 15,
   "metadata": {},
   "outputs": [
    {
     "data": {
      "text/html": [
       "<div>\n",
       "<style scoped>\n",
       "    .dataframe tbody tr th:only-of-type {\n",
       "        vertical-align: middle;\n",
       "    }\n",
       "\n",
       "    .dataframe tbody tr th {\n",
       "        vertical-align: top;\n",
       "    }\n",
       "\n",
       "    .dataframe thead th {\n",
       "        text-align: right;\n",
       "    }\n",
       "</style>\n",
       "<table border=\"1\" class=\"dataframe\">\n",
       "  <thead>\n",
       "    <tr style=\"text-align: right;\">\n",
       "      <th></th>\n",
       "      <th>id_cliente</th>\n",
       "      <th>primera_compra</th>\n",
       "      <th>ultima_compra</th>\n",
       "      <th>numero_compras</th>\n",
       "      <th>valor_total</th>\n",
       "      <th>dia_primera_compra</th>\n",
       "      <th>mes_primera_compra</th>\n",
       "      <th>año_primera_compra</th>\n",
       "      <th>dia_ultima_compra</th>\n",
       "      <th>mes_ultima_compra</th>\n",
       "      <th>año_ultima_compra</th>\n",
       "      <th>antiguedad_dias</th>\n",
       "      <th>actividad_dias</th>\n",
       "      <th>actividad_meses</th>\n",
       "      <th>actividad_años</th>\n",
       "      <th>compras_por_mes</th>\n",
       "      <th>compras_por_año</th>\n",
       "    </tr>\n",
       "  </thead>\n",
       "  <tbody>\n",
       "    <tr>\n",
       "      <th>103</th>\n",
       "      <td>C0152</td>\n",
       "      <td>2020-02-11</td>\n",
       "      <td>2024-05-27</td>\n",
       "      <td>35</td>\n",
       "      <td>86949.16</td>\n",
       "      <td>11</td>\n",
       "      <td>2</td>\n",
       "      <td>2020</td>\n",
       "      <td>27</td>\n",
       "      <td>5</td>\n",
       "      <td>2024</td>\n",
       "      <td>1800</td>\n",
       "      <td>1567</td>\n",
       "      <td>52</td>\n",
       "      <td>4</td>\n",
       "      <td>0.673077</td>\n",
       "      <td>8.75</td>\n",
       "    </tr>\n",
       "    <tr>\n",
       "      <th>2</th>\n",
       "      <td>C0003</td>\n",
       "      <td>2020-01-26</td>\n",
       "      <td>2024-06-09</td>\n",
       "      <td>38</td>\n",
       "      <td>92739.58</td>\n",
       "      <td>26</td>\n",
       "      <td>1</td>\n",
       "      <td>2020</td>\n",
       "      <td>9</td>\n",
       "      <td>6</td>\n",
       "      <td>2024</td>\n",
       "      <td>1816</td>\n",
       "      <td>1596</td>\n",
       "      <td>53</td>\n",
       "      <td>4</td>\n",
       "      <td>0.716981</td>\n",
       "      <td>9.50</td>\n",
       "    </tr>\n",
       "    <tr>\n",
       "      <th>79</th>\n",
       "      <td>C0120</td>\n",
       "      <td>2020-01-23</td>\n",
       "      <td>2024-05-14</td>\n",
       "      <td>26</td>\n",
       "      <td>67295.55</td>\n",
       "      <td>23</td>\n",
       "      <td>1</td>\n",
       "      <td>2020</td>\n",
       "      <td>14</td>\n",
       "      <td>5</td>\n",
       "      <td>2024</td>\n",
       "      <td>1819</td>\n",
       "      <td>1573</td>\n",
       "      <td>52</td>\n",
       "      <td>4</td>\n",
       "      <td>0.500000</td>\n",
       "      <td>6.50</td>\n",
       "    </tr>\n",
       "    <tr>\n",
       "      <th>36</th>\n",
       "      <td>C0051</td>\n",
       "      <td>2020-02-07</td>\n",
       "      <td>2024-03-24</td>\n",
       "      <td>34</td>\n",
       "      <td>86532.97</td>\n",
       "      <td>7</td>\n",
       "      <td>2</td>\n",
       "      <td>2020</td>\n",
       "      <td>24</td>\n",
       "      <td>3</td>\n",
       "      <td>2024</td>\n",
       "      <td>1804</td>\n",
       "      <td>1507</td>\n",
       "      <td>50</td>\n",
       "      <td>4</td>\n",
       "      <td>0.680000</td>\n",
       "      <td>8.50</td>\n",
       "    </tr>\n",
       "    <tr>\n",
       "      <th>193</th>\n",
       "      <td>C0271</td>\n",
       "      <td>2020-06-27</td>\n",
       "      <td>2024-06-11</td>\n",
       "      <td>36</td>\n",
       "      <td>91912.95</td>\n",
       "      <td>27</td>\n",
       "      <td>6</td>\n",
       "      <td>2020</td>\n",
       "      <td>11</td>\n",
       "      <td>6</td>\n",
       "      <td>2024</td>\n",
       "      <td>1663</td>\n",
       "      <td>1445</td>\n",
       "      <td>48</td>\n",
       "      <td>4</td>\n",
       "      <td>0.750000</td>\n",
       "      <td>9.00</td>\n",
       "    </tr>\n",
       "  </tbody>\n",
       "</table>\n",
       "</div>"
      ],
      "text/plain": [
       "    id_cliente primera_compra ultima_compra  numero_compras  valor_total  \\\n",
       "103      C0152     2020-02-11    2024-05-27              35     86949.16   \n",
       "2        C0003     2020-01-26    2024-06-09              38     92739.58   \n",
       "79       C0120     2020-01-23    2024-05-14              26     67295.55   \n",
       "36       C0051     2020-02-07    2024-03-24              34     86532.97   \n",
       "193      C0271     2020-06-27    2024-06-11              36     91912.95   \n",
       "\n",
       "     dia_primera_compra  mes_primera_compra  año_primera_compra  \\\n",
       "103                  11                   2                2020   \n",
       "2                    26                   1                2020   \n",
       "79                   23                   1                2020   \n",
       "36                    7                   2                2020   \n",
       "193                  27                   6                2020   \n",
       "\n",
       "     dia_ultima_compra  mes_ultima_compra  año_ultima_compra  antiguedad_dias  \\\n",
       "103                 27                  5               2024             1800   \n",
       "2                    9                  6               2024             1816   \n",
       "79                  14                  5               2024             1819   \n",
       "36                  24                  3               2024             1804   \n",
       "193                 11                  6               2024             1663   \n",
       "\n",
       "     actividad_dias  actividad_meses  actividad_años  compras_por_mes  \\\n",
       "103            1567               52               4         0.673077   \n",
       "2              1596               53               4         0.716981   \n",
       "79             1573               52               4         0.500000   \n",
       "36             1507               50               4         0.680000   \n",
       "193            1445               48               4         0.750000   \n",
       "\n",
       "     compras_por_año  \n",
       "103             8.75  \n",
       "2               9.50  \n",
       "79              6.50  \n",
       "36              8.50  \n",
       "193             9.00  "
      ]
     },
     "execution_count": 15,
     "metadata": {},
     "output_type": "execute_result"
    }
   ],
   "source": [
    "metricas_clientes.sample(5)\n"
   ]
  },
  {
   "cell_type": "code",
   "execution_count": 16,
   "metadata": {},
   "outputs": [
    {
     "name": "stderr",
     "output_type": "stream",
     "text": [
      "<>:1: SyntaxWarning: invalid escape sequence '\\m'\n",
      "<>:1: SyntaxWarning: invalid escape sequence '\\m'\n",
      "C:\\Users\\marg_\\AppData\\Local\\Temp\\ipykernel_21172\\1741905565.py:1: SyntaxWarning: invalid escape sequence '\\m'\n",
      "  metricas_clientes.to_csv('csv_limpios_finales\\metricas_cliente.csv')\n"
     ]
    }
   ],
   "source": [
    "metricas_clientes.to_csv('csv_limpios_finales\\metricas_cliente.csv')"
   ]
  },
  {
   "cell_type": "markdown",
   "metadata": {},
   "source": [
    "Separamos las columnas correspondientes a información clientes para tenerla en separado:"
   ]
  },
  {
   "cell_type": "code",
   "execution_count": 17,
   "metadata": {},
   "outputs": [
    {
     "name": "stdout",
     "output_type": "stream",
     "text": [
      "<class 'pandas.core.frame.DataFrame'>\n",
      "RangeIndex: 79920 entries, 0 to 79919\n",
      "Data columns (total 14 columns):\n",
      " #   Column             Non-Null Count  Dtype         \n",
      "---  ------             --------------  -----         \n",
      " 0   id_venta           79920 non-null  object        \n",
      " 1   id_producto        79920 non-null  object        \n",
      " 2   cantidad           79920 non-null  int64         \n",
      " 3   fecha              79920 non-null  datetime64[ns]\n",
      " 4   id_cliente         79920 non-null  object        \n",
      " 5   nombre             79920 non-null  object        \n",
      " 6   apellido           79920 non-null  object        \n",
      " 7   ciudad             79920 non-null  object        \n",
      " 8   precio             79920 non-null  float64       \n",
      " 9   categoria          79920 non-null  object        \n",
      " 10  descripcion        79920 non-null  object        \n",
      " 11  pais               79920 non-null  object        \n",
      " 12  valor_total_venta  79920 non-null  float64       \n",
      " 13  dia_semana_venta   79920 non-null  int32         \n",
      "dtypes: datetime64[ns](1), float64(2), int32(1), int64(1), object(9)\n",
      "memory usage: 8.2+ MB\n"
     ]
    }
   ],
   "source": [
    "df_ventas_cliente_prod.info()"
   ]
  },
  {
   "cell_type": "code",
   "execution_count": 18,
   "metadata": {},
   "outputs": [
    {
     "name": "stderr",
     "output_type": "stream",
     "text": [
      "<>:2: SyntaxWarning: invalid escape sequence '\\c'\n",
      "<>:2: SyntaxWarning: invalid escape sequence '\\c'\n",
      "C:\\Users\\marg_\\AppData\\Local\\Temp\\ipykernel_21172\\1031945816.py:2: SyntaxWarning: invalid escape sequence '\\c'\n",
      "  df_clientes_informacion.to_csv('csv_limpios_finales\\clientes_información.csv',index=False)\n"
     ]
    }
   ],
   "source": [
    "df_clientes_informacion=df_ventas_cliente_prod[['id_cliente','nombre','apellido','ciudad','pais']]\n",
    "df_clientes_informacion.to_csv('csv_limpios_finales\\clientes_información.csv',index=False)"
   ]
  },
  {
   "cell_type": "code",
   "execution_count": 19,
   "metadata": {},
   "outputs": [
    {
     "name": "stderr",
     "output_type": "stream",
     "text": [
      "<>:3: SyntaxWarning: invalid escape sequence '\\p'\n",
      "<>:4: SyntaxWarning: invalid escape sequence '\\ '\n",
      "<>:3: SyntaxWarning: invalid escape sequence '\\p'\n",
      "<>:4: SyntaxWarning: invalid escape sequence '\\ '\n",
      "C:\\Users\\marg_\\AppData\\Local\\Temp\\ipykernel_21172\\3725780950.py:3: SyntaxWarning: invalid escape sequence '\\p'\n",
      "  df_productos_informacion.to_csv('csv_limpios_finales\\productos_informacion.csv',index=False)\n",
      "C:\\Users\\marg_\\AppData\\Local\\Temp\\ipykernel_21172\\3725780950.py:4: SyntaxWarning: invalid escape sequence '\\ '\n",
      "  df_ventas_informacion.to_csv('csv_limpios_finales\\ ventas_informacion.csv',index=False)\n"
     ]
    }
   ],
   "source": [
    "df_productos_informacion=df_ventas_cliente_prod[['id_producto','precio','categoria','descripcion']]\n",
    "df_ventas_informacion=df_ventas_cliente_prod[['id_venta','id_producto','id_cliente','cantidad','fecha','valor_total_venta']]\n",
    "df_productos_informacion.to_csv('csv_limpios_finales\\productos_informacion.csv',index=False)\n",
    "df_ventas_informacion.to_csv('csv_limpios_finales\\ ventas_informacion.csv',index=False)"
   ]
  }
 ],
 "metadata": {
  "kernelspec": {
   "display_name": "base",
   "language": "python",
   "name": "python3"
  },
  "language_info": {
   "codemirror_mode": {
    "name": "ipython",
    "version": 3
   },
   "file_extension": ".py",
   "mimetype": "text/x-python",
   "name": "python",
   "nbconvert_exporter": "python",
   "pygments_lexer": "ipython3",
   "version": "3.12.4"
  }
 },
 "nbformat": 4,
 "nbformat_minor": 2
}
