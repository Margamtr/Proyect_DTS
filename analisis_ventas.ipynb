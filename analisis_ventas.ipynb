{
 "cells": [
  {
   "cell_type": "markdown",
   "metadata": {},
   "source": [
    "CREAMOS LAS MÉTRICA PARA EL ANÁLISIS DE VENTAS.\n",
    "\n",
    "De las tablas ventas podemos determinar:\n",
    "-los valores totales de cada venta\n",
    "-la fecha de la primera y última compra\n",
    "-Compras por cliente.\n",
    "-Actividad por día, mes y año."
   ]
  },
  {
   "cell_type": "code",
   "execution_count": 1,
   "metadata": {},
   "outputs": [],
   "source": [
    "#importamos librerias\n",
    "import pandas as pd    # Librería para tablas y tratamiento de datos.\n",
    "#Para una visualización completa de todas las columnas:\n",
    "pd.set_option('display.max_columns', None)\n",
    "#Accedemos a las funciones en soporte_dts de la carpeta src\n",
    "from src import soporte_dts as sdts\n",
    "import seaborn as sns\n",
    "import matplotlib.pyplot as plt\n",
    "from datetime import datetime"
   ]
  },
  {
   "cell_type": "code",
   "execution_count": 69,
   "metadata": {},
   "outputs": [],
   "source": [
    "df_ventas_cliente_prod=sdts.leer_datos('clientes_productos_ventas_limpio.csv')"
   ]
  },
  {
   "cell_type": "code",
   "execution_count": 70,
   "metadata": {},
   "outputs": [
    {
     "data": {
      "text/plain": [
       "Index(['id_venta', 'id_producto', 'cantidad', 'fecha', 'id_cliente', 'nombre',\n",
       "       'apellido', 'ciudad', 'precio', 'categoria', 'descripcion', 'pais'],\n",
       "      dtype='object')"
      ]
     },
     "execution_count": 70,
     "metadata": {},
     "output_type": "execute_result"
    }
   ],
   "source": [
    "df_ventas_cliente_prod.columns"
   ]
  },
  {
   "cell_type": "code",
   "execution_count": 53,
   "metadata": {},
   "outputs": [],
   "source": [
    "#Añadimos columna para determinar el dia de la semana que se realizan las compras:\n",
    "df_ventas_cliente_prod['fecha']=pd.to_datetime(df_ventas_cliente_prod['fecha'])"
   ]
  },
  {
   "cell_type": "code",
   "execution_count": 21,
   "metadata": {},
   "outputs": [],
   "source": [
    "df_ventas_cliente_prod['dia_semana_venta']=df_ventas_cliente_prod['fecha'].dt.dayofweek"
   ]
  },
  {
   "cell_type": "code",
   "execution_count": 78,
   "metadata": {},
   "outputs": [
    {
     "data": {
      "text/html": [
       "<div>\n",
       "<style scoped>\n",
       "    .dataframe tbody tr th:only-of-type {\n",
       "        vertical-align: middle;\n",
       "    }\n",
       "\n",
       "    .dataframe tbody tr th {\n",
       "        vertical-align: top;\n",
       "    }\n",
       "\n",
       "    .dataframe thead th {\n",
       "        text-align: right;\n",
       "    }\n",
       "</style>\n",
       "<table border=\"1\" class=\"dataframe\">\n",
       "  <thead>\n",
       "    <tr style=\"text-align: right;\">\n",
       "      <th></th>\n",
       "      <th>id_venta</th>\n",
       "      <th>id_producto</th>\n",
       "      <th>cantidad</th>\n",
       "      <th>fecha</th>\n",
       "      <th>id_cliente</th>\n",
       "      <th>nombre</th>\n",
       "      <th>apellido</th>\n",
       "      <th>ciudad</th>\n",
       "      <th>precio</th>\n",
       "      <th>categoria</th>\n",
       "      <th>descripcion</th>\n",
       "      <th>pais</th>\n",
       "      <th>valor_total_venta</th>\n",
       "    </tr>\n",
       "  </thead>\n",
       "  <tbody>\n",
       "    <tr>\n",
       "      <th>71829</th>\n",
       "      <td>V000252</td>\n",
       "      <td>P0421</td>\n",
       "      <td>6</td>\n",
       "      <td>2021-10-10</td>\n",
       "      <td>C0251</td>\n",
       "      <td>María</td>\n",
       "      <td>Pérez</td>\n",
       "      <td>Oporto</td>\n",
       "      <td>10.38</td>\n",
       "      <td>Books</td>\n",
       "      <td>8YdTEz9VSL3Jvp9BCthxx0FejhFjk3xSOCVhtMhTEiuixH...</td>\n",
       "      <td>Portugal</td>\n",
       "      <td>62.28</td>\n",
       "    </tr>\n",
       "    <tr>\n",
       "      <th>66998</th>\n",
       "      <td>V003957</td>\n",
       "      <td>P0071</td>\n",
       "      <td>7</td>\n",
       "      <td>2022-09-17</td>\n",
       "      <td>C0033</td>\n",
       "      <td>María</td>\n",
       "      <td>Hernández</td>\n",
       "      <td>Bilbao</td>\n",
       "      <td>64.03</td>\n",
       "      <td>Books</td>\n",
       "      <td>ne6G8PzuusMbupVEpqRvahDXhiXj555qA3lmXpT97Fuxai...</td>\n",
       "      <td>España</td>\n",
       "      <td>448.21</td>\n",
       "    </tr>\n",
       "  </tbody>\n",
       "</table>\n",
       "</div>"
      ],
      "text/plain": [
       "      id_venta id_producto  cantidad       fecha id_cliente nombre   apellido  \\\n",
       "71829  V000252       P0421         6  2021-10-10      C0251  María      Pérez   \n",
       "66998  V003957       P0071         7  2022-09-17      C0033  María  Hernández   \n",
       "\n",
       "       ciudad  precio categoria  \\\n",
       "71829  Oporto   10.38     Books   \n",
       "66998  Bilbao   64.03     Books   \n",
       "\n",
       "                                             descripcion      pais  \\\n",
       "71829  8YdTEz9VSL3Jvp9BCthxx0FejhFjk3xSOCVhtMhTEiuixH...  Portugal   \n",
       "66998  ne6G8PzuusMbupVEpqRvahDXhiXj555qA3lmXpT97Fuxai...    España   \n",
       "\n",
       "       valor_total_venta  \n",
       "71829              62.28  \n",
       "66998             448.21  "
      ]
     },
     "execution_count": 78,
     "metadata": {},
     "output_type": "execute_result"
    }
   ],
   "source": [
    "#añadimos una nueva columna donde calculamos el valor de cada venta:\n",
    "df_ventas_cliente_prod['valor_total_venta']=df_ventas_cliente_prod['cantidad']*df_ventas_cliente_prod['precio']\n",
    "df_ventas_cliente_prod.sample(2)"
   ]
  },
  {
   "cell_type": "code",
   "execution_count": 79,
   "metadata": {},
   "outputs": [],
   "source": [
    "#Procedemos a guardar el df _limpio:\n",
    "df_ventas_cliente_prod.to_csv('clientes_productos_ventas_limpio.csv',index=False)"
   ]
  },
  {
   "cell_type": "code",
   "execution_count": 56,
   "metadata": {},
   "outputs": [],
   "source": [
    "# agruparemos la columna clientes y determinaremos lafecha asociada minima y máxima, el numero de ventas registras, y el \n",
    "#Creamos un Dataframe con las métricas que podemos extraer de los datos:\n",
    "#aplicamos diferentes funcioones de agregación por columna:\n",
    "metricas_clientes=df_ventas_cliente_prod.groupby('id_cliente', as_index=False).agg({'fecha':['min','max'],'id_venta':'nunique','valor_total_venta':'sum'})\n",
    "metricas_clientes.columns=['id_cliente','primera_compra','ultima_compra','numero_compras','valor_total']\n"
   ]
  },
  {
   "cell_type": "code",
   "execution_count": 7,
   "metadata": {},
   "outputs": [
    {
     "name": "stdout",
     "output_type": "stream",
     "text": [
      "<class 'pandas.core.frame.DataFrame'>\n",
      "RangeIndex: 210 entries, 0 to 209\n",
      "Data columns (total 5 columns):\n",
      " #   Column          Non-Null Count  Dtype  \n",
      "---  ------          --------------  -----  \n",
      " 0   id_cliente      210 non-null    object \n",
      " 1   primera_compra  210 non-null    object \n",
      " 2   ultima_compra   210 non-null    object \n",
      " 3   numero_compras  210 non-null    int64  \n",
      " 4   valor_total     210 non-null    float64\n",
      "dtypes: float64(1), int64(1), object(3)\n",
      "memory usage: 8.3+ KB\n"
     ]
    }
   ],
   "source": [
    "metricas_clientes.info()"
   ]
  },
  {
   "cell_type": "code",
   "execution_count": 57,
   "metadata": {},
   "outputs": [],
   "source": [
    "#Obtenemos informacion adicional a partir de las fechas: para ello debemos modificar el tiopo de dat object a datatime:\n",
    "\n",
    "\n",
    "metricas_clientes['primera_compra']=pd.to_datetime(metricas_clientes['primera_compra'])\n",
    "metricas_clientes['ultima_compra']=pd.to_datetime(metricas_clientes['ultima_compra'])"
   ]
  },
  {
   "cell_type": "code",
   "execution_count": 58,
   "metadata": {},
   "outputs": [],
   "source": [
    "#Creamos columnas con año dia y fecha de cada transacción:\n",
    "metricas_clientes['dia_primera_compra']=metricas_clientes['primera_compra'].dt.day\n",
    "metricas_clientes['mes_primera_compra']=metricas_clientes['primera_compra'].dt.month\n",
    "metricas_clientes['año_primera_compra']=metricas_clientes['primera_compra'].dt.year\n",
    "\n",
    "metricas_clientes['dia_ultima_compra']=metricas_clientes['ultima_compra'].dt.day\n",
    "metricas_clientes['mes_ultima_compra']=metricas_clientes['ultima_compra'].dt.month\n",
    "metricas_clientes['año_ultima_compra']=metricas_clientes['ultima_compra'].dt.year"
   ]
  },
  {
   "cell_type": "code",
   "execution_count": 59,
   "metadata": {},
   "outputs": [
    {
     "data": {
      "text/html": [
       "<div>\n",
       "<style scoped>\n",
       "    .dataframe tbody tr th:only-of-type {\n",
       "        vertical-align: middle;\n",
       "    }\n",
       "\n",
       "    .dataframe tbody tr th {\n",
       "        vertical-align: top;\n",
       "    }\n",
       "\n",
       "    .dataframe thead th {\n",
       "        text-align: right;\n",
       "    }\n",
       "</style>\n",
       "<table border=\"1\" class=\"dataframe\">\n",
       "  <thead>\n",
       "    <tr style=\"text-align: right;\">\n",
       "      <th></th>\n",
       "      <th>id_cliente</th>\n",
       "      <th>primera_compra</th>\n",
       "      <th>ultima_compra</th>\n",
       "      <th>numero_compras</th>\n",
       "      <th>valor_total</th>\n",
       "      <th>dia_primera_compra</th>\n",
       "      <th>mes_primera_compra</th>\n",
       "      <th>año_primera_compra</th>\n",
       "      <th>dia_ultima_compra</th>\n",
       "      <th>mes_ultima_compra</th>\n",
       "      <th>año_ultima_compra</th>\n",
       "    </tr>\n",
       "  </thead>\n",
       "  <tbody>\n",
       "    <tr>\n",
       "      <th>23</th>\n",
       "      <td>C0037</td>\n",
       "      <td>2020-02-12</td>\n",
       "      <td>2024-05-02</td>\n",
       "      <td>40</td>\n",
       "      <td>93737.76</td>\n",
       "      <td>12</td>\n",
       "      <td>2</td>\n",
       "      <td>2020</td>\n",
       "      <td>2</td>\n",
       "      <td>5</td>\n",
       "      <td>2024</td>\n",
       "    </tr>\n",
       "    <tr>\n",
       "      <th>188</th>\n",
       "      <td>C0264</td>\n",
       "      <td>2020-01-29</td>\n",
       "      <td>2024-05-27</td>\n",
       "      <td>41</td>\n",
       "      <td>119542.12</td>\n",
       "      <td>29</td>\n",
       "      <td>1</td>\n",
       "      <td>2020</td>\n",
       "      <td>27</td>\n",
       "      <td>5</td>\n",
       "      <td>2024</td>\n",
       "    </tr>\n",
       "    <tr>\n",
       "      <th>28</th>\n",
       "      <td>C0043</td>\n",
       "      <td>2020-01-06</td>\n",
       "      <td>2024-05-16</td>\n",
       "      <td>42</td>\n",
       "      <td>115738.11</td>\n",
       "      <td>6</td>\n",
       "      <td>1</td>\n",
       "      <td>2020</td>\n",
       "      <td>16</td>\n",
       "      <td>5</td>\n",
       "      <td>2024</td>\n",
       "    </tr>\n",
       "    <tr>\n",
       "      <th>137</th>\n",
       "      <td>C0199</td>\n",
       "      <td>2020-01-10</td>\n",
       "      <td>2023-11-14</td>\n",
       "      <td>21</td>\n",
       "      <td>57331.39</td>\n",
       "      <td>10</td>\n",
       "      <td>1</td>\n",
       "      <td>2020</td>\n",
       "      <td>14</td>\n",
       "      <td>11</td>\n",
       "      <td>2023</td>\n",
       "    </tr>\n",
       "    <tr>\n",
       "      <th>107</th>\n",
       "      <td>C0156</td>\n",
       "      <td>2020-01-16</td>\n",
       "      <td>2024-05-14</td>\n",
       "      <td>41</td>\n",
       "      <td>109147.35</td>\n",
       "      <td>16</td>\n",
       "      <td>1</td>\n",
       "      <td>2020</td>\n",
       "      <td>14</td>\n",
       "      <td>5</td>\n",
       "      <td>2024</td>\n",
       "    </tr>\n",
       "  </tbody>\n",
       "</table>\n",
       "</div>"
      ],
      "text/plain": [
       "    id_cliente primera_compra ultima_compra  numero_compras  valor_total  \\\n",
       "23       C0037     2020-02-12    2024-05-02              40     93737.76   \n",
       "188      C0264     2020-01-29    2024-05-27              41    119542.12   \n",
       "28       C0043     2020-01-06    2024-05-16              42    115738.11   \n",
       "137      C0199     2020-01-10    2023-11-14              21     57331.39   \n",
       "107      C0156     2020-01-16    2024-05-14              41    109147.35   \n",
       "\n",
       "     dia_primera_compra  mes_primera_compra  año_primera_compra  \\\n",
       "23                   12                   2                2020   \n",
       "188                  29                   1                2020   \n",
       "28                    6                   1                2020   \n",
       "137                  10                   1                2020   \n",
       "107                  16                   1                2020   \n",
       "\n",
       "     dia_ultima_compra  mes_ultima_compra  año_ultima_compra  \n",
       "23                   2                  5               2024  \n",
       "188                 27                  5               2024  \n",
       "28                  16                  5               2024  \n",
       "137                 14                 11               2023  \n",
       "107                 14                  5               2024  "
      ]
     },
     "execution_count": 59,
     "metadata": {},
     "output_type": "execute_result"
    }
   ],
   "source": [
    "metricas_clientes.sample(5)\n"
   ]
  },
  {
   "cell_type": "code",
   "execution_count": 60,
   "metadata": {},
   "outputs": [],
   "source": [
    "#Calculamos la antiguedad en días con respecto a la fecha actual\n",
    "metricas_clientes['antiguedad_dias']=(datetime.today()-metricas_clientes['primera_compra']).dt.days\n",
    "\n"
   ]
  },
  {
   "cell_type": "code",
   "execution_count": 64,
   "metadata": {},
   "outputs": [
    {
     "name": "stderr",
     "output_type": "stream",
     "text": [
      "C:\\Users\\marg_\\AppData\\Local\\Temp\\ipykernel_23872\\2051430706.py:3: FutureWarning: the convert_dtype parameter is deprecated and will be removed in a future version.  Do ``ser.astype(object).apply()`` instead if you want ``convert_dtype=False``.\n",
      "  metricas_clientes['actividad_meses']=metricas_clientes['actividad_dias'].apply(lambda x: round(x/30),1)\n",
      "C:\\Users\\marg_\\AppData\\Local\\Temp\\ipykernel_23872\\2051430706.py:4: FutureWarning: the convert_dtype parameter is deprecated and will be removed in a future version.  Do ``ser.astype(object).apply()`` instead if you want ``convert_dtype=False``.\n",
      "  metricas_clientes['actividad_años']=metricas_clientes['actividad_meses'].apply(lambda x: round(x/12),1)\n"
     ]
    }
   ],
   "source": [
    "#Calculamos el tiempo de actividad y la frecuencia( nºcompras/tiempo de actividad)\n",
    "metricas_clientes['actividad_dias']=(metricas_clientes['ultima_compra']-metricas_clientes['primera_compra']).dt.days\n",
    "metricas_clientes['actividad_meses']=metricas_clientes['actividad_dias'].apply(lambda x: round(x/30),1)\n",
    "metricas_clientes['actividad_años']=metricas_clientes['actividad_meses'].apply(lambda x: round(x/12),1)\n",
    "metricas_clientes['compras_por_mes']=metricas_clientes['numero_compras']/metricas_clientes['actividad_meses']\n",
    "metricas_clientes['compras_por_año']=metricas_clientes['numero_compras']/metricas_clientes['actividad_años']"
   ]
  },
  {
   "cell_type": "code",
   "execution_count": 65,
   "metadata": {},
   "outputs": [
    {
     "data": {
      "text/html": [
       "<div>\n",
       "<style scoped>\n",
       "    .dataframe tbody tr th:only-of-type {\n",
       "        vertical-align: middle;\n",
       "    }\n",
       "\n",
       "    .dataframe tbody tr th {\n",
       "        vertical-align: top;\n",
       "    }\n",
       "\n",
       "    .dataframe thead th {\n",
       "        text-align: right;\n",
       "    }\n",
       "</style>\n",
       "<table border=\"1\" class=\"dataframe\">\n",
       "  <thead>\n",
       "    <tr style=\"text-align: right;\">\n",
       "      <th></th>\n",
       "      <th>id_cliente</th>\n",
       "      <th>primera_compra</th>\n",
       "      <th>ultima_compra</th>\n",
       "      <th>numero_compras</th>\n",
       "      <th>valor_total</th>\n",
       "      <th>dia_primera_compra</th>\n",
       "      <th>mes_primera_compra</th>\n",
       "      <th>año_primera_compra</th>\n",
       "      <th>dia_ultima_compra</th>\n",
       "      <th>mes_ultima_compra</th>\n",
       "      <th>año_ultima_compra</th>\n",
       "      <th>antiguedad_dias</th>\n",
       "      <th>actividad_dias</th>\n",
       "      <th>actividad_meses</th>\n",
       "      <th>actividad_años</th>\n",
       "      <th>compras_por_mes</th>\n",
       "      <th>compras_por_año</th>\n",
       "    </tr>\n",
       "  </thead>\n",
       "  <tbody>\n",
       "    <tr>\n",
       "      <th>204</th>\n",
       "      <td>C0291</td>\n",
       "      <td>2020-02-06</td>\n",
       "      <td>2024-06-21</td>\n",
       "      <td>40</td>\n",
       "      <td>111089.78</td>\n",
       "      <td>6</td>\n",
       "      <td>2</td>\n",
       "      <td>2020</td>\n",
       "      <td>21</td>\n",
       "      <td>6</td>\n",
       "      <td>2024</td>\n",
       "      <td>1804</td>\n",
       "      <td>1597</td>\n",
       "      <td>53</td>\n",
       "      <td>4</td>\n",
       "      <td>0.754717</td>\n",
       "      <td>10.00</td>\n",
       "    </tr>\n",
       "    <tr>\n",
       "      <th>179</th>\n",
       "      <td>C0253</td>\n",
       "      <td>2020-01-06</td>\n",
       "      <td>2024-06-03</td>\n",
       "      <td>44</td>\n",
       "      <td>113605.04</td>\n",
       "      <td>6</td>\n",
       "      <td>1</td>\n",
       "      <td>2020</td>\n",
       "      <td>3</td>\n",
       "      <td>6</td>\n",
       "      <td>2024</td>\n",
       "      <td>1835</td>\n",
       "      <td>1610</td>\n",
       "      <td>54</td>\n",
       "      <td>4</td>\n",
       "      <td>0.814815</td>\n",
       "      <td>11.00</td>\n",
       "    </tr>\n",
       "    <tr>\n",
       "      <th>190</th>\n",
       "      <td>C0267</td>\n",
       "      <td>2020-01-29</td>\n",
       "      <td>2024-05-10</td>\n",
       "      <td>41</td>\n",
       "      <td>112061.49</td>\n",
       "      <td>29</td>\n",
       "      <td>1</td>\n",
       "      <td>2020</td>\n",
       "      <td>10</td>\n",
       "      <td>5</td>\n",
       "      <td>2024</td>\n",
       "      <td>1812</td>\n",
       "      <td>1563</td>\n",
       "      <td>52</td>\n",
       "      <td>4</td>\n",
       "      <td>0.788462</td>\n",
       "      <td>10.25</td>\n",
       "    </tr>\n",
       "    <tr>\n",
       "      <th>32</th>\n",
       "      <td>C0047</td>\n",
       "      <td>2020-02-01</td>\n",
       "      <td>2024-06-09</td>\n",
       "      <td>35</td>\n",
       "      <td>91151.23</td>\n",
       "      <td>1</td>\n",
       "      <td>2</td>\n",
       "      <td>2020</td>\n",
       "      <td>9</td>\n",
       "      <td>6</td>\n",
       "      <td>2024</td>\n",
       "      <td>1809</td>\n",
       "      <td>1590</td>\n",
       "      <td>53</td>\n",
       "      <td>4</td>\n",
       "      <td>0.660377</td>\n",
       "      <td>8.75</td>\n",
       "    </tr>\n",
       "    <tr>\n",
       "      <th>54</th>\n",
       "      <td>C0075</td>\n",
       "      <td>2020-04-29</td>\n",
       "      <td>2024-04-15</td>\n",
       "      <td>42</td>\n",
       "      <td>109068.91</td>\n",
       "      <td>29</td>\n",
       "      <td>4</td>\n",
       "      <td>2020</td>\n",
       "      <td>15</td>\n",
       "      <td>4</td>\n",
       "      <td>2024</td>\n",
       "      <td>1721</td>\n",
       "      <td>1447</td>\n",
       "      <td>48</td>\n",
       "      <td>4</td>\n",
       "      <td>0.875000</td>\n",
       "      <td>10.50</td>\n",
       "    </tr>\n",
       "  </tbody>\n",
       "</table>\n",
       "</div>"
      ],
      "text/plain": [
       "    id_cliente primera_compra ultima_compra  numero_compras  valor_total  \\\n",
       "204      C0291     2020-02-06    2024-06-21              40    111089.78   \n",
       "179      C0253     2020-01-06    2024-06-03              44    113605.04   \n",
       "190      C0267     2020-01-29    2024-05-10              41    112061.49   \n",
       "32       C0047     2020-02-01    2024-06-09              35     91151.23   \n",
       "54       C0075     2020-04-29    2024-04-15              42    109068.91   \n",
       "\n",
       "     dia_primera_compra  mes_primera_compra  año_primera_compra  \\\n",
       "204                   6                   2                2020   \n",
       "179                   6                   1                2020   \n",
       "190                  29                   1                2020   \n",
       "32                    1                   2                2020   \n",
       "54                   29                   4                2020   \n",
       "\n",
       "     dia_ultima_compra  mes_ultima_compra  año_ultima_compra  antiguedad_dias  \\\n",
       "204                 21                  6               2024             1804   \n",
       "179                  3                  6               2024             1835   \n",
       "190                 10                  5               2024             1812   \n",
       "32                   9                  6               2024             1809   \n",
       "54                  15                  4               2024             1721   \n",
       "\n",
       "     actividad_dias  actividad_meses  actividad_años  compras_por_mes  \\\n",
       "204            1597               53               4         0.754717   \n",
       "179            1610               54               4         0.814815   \n",
       "190            1563               52               4         0.788462   \n",
       "32             1590               53               4         0.660377   \n",
       "54             1447               48               4         0.875000   \n",
       "\n",
       "     compras_por_año  \n",
       "204            10.00  \n",
       "179            11.00  \n",
       "190            10.25  \n",
       "32              8.75  \n",
       "54             10.50  "
      ]
     },
     "execution_count": 65,
     "metadata": {},
     "output_type": "execute_result"
    }
   ],
   "source": [
    "metricas_clientes.sample(5)\n"
   ]
  },
  {
   "cell_type": "code",
   "execution_count": 81,
   "metadata": {},
   "outputs": [
    {
     "name": "stderr",
     "output_type": "stream",
     "text": [
      "<>:1: SyntaxWarning: invalid escape sequence '\\m'\n",
      "<>:1: SyntaxWarning: invalid escape sequence '\\m'\n",
      "C:\\Users\\marg_\\AppData\\Local\\Temp\\ipykernel_23872\\1741905565.py:1: SyntaxWarning: invalid escape sequence '\\m'\n",
      "  metricas_clientes.to_csv('csv_limpios_finales\\metricas_cliente.csv')\n"
     ]
    }
   ],
   "source": [
    "metricas_clientes.to_csv('csv_limpios_finales\\metricas_cliente.csv')"
   ]
  },
  {
   "cell_type": "markdown",
   "metadata": {},
   "source": [
    "Separamos las columnas correspondientes a información clientes para tenerla en separado:"
   ]
  },
  {
   "cell_type": "code",
   "execution_count": 80,
   "metadata": {},
   "outputs": [
    {
     "name": "stdout",
     "output_type": "stream",
     "text": [
      "<class 'pandas.core.frame.DataFrame'>\n",
      "RangeIndex: 79920 entries, 0 to 79919\n",
      "Data columns (total 13 columns):\n",
      " #   Column             Non-Null Count  Dtype  \n",
      "---  ------             --------------  -----  \n",
      " 0   id_venta           79920 non-null  object \n",
      " 1   id_producto        79920 non-null  object \n",
      " 2   cantidad           79920 non-null  int64  \n",
      " 3   fecha              79920 non-null  object \n",
      " 4   id_cliente         79920 non-null  object \n",
      " 5   nombre             79920 non-null  object \n",
      " 6   apellido           79920 non-null  object \n",
      " 7   ciudad             79920 non-null  object \n",
      " 8   precio             79920 non-null  float64\n",
      " 9   categoria          79920 non-null  object \n",
      " 10  descripcion        79920 non-null  object \n",
      " 11  pais               79920 non-null  object \n",
      " 12  valor_total_venta  79920 non-null  float64\n",
      "dtypes: float64(2), int64(1), object(10)\n",
      "memory usage: 7.9+ MB\n"
     ]
    }
   ],
   "source": [
    "df_ventas_cliente_prod.info()"
   ]
  },
  {
   "cell_type": "code",
   "execution_count": 75,
   "metadata": {},
   "outputs": [
    {
     "name": "stdout",
     "output_type": "stream",
     "text": [
      "<class 'pandas.core.frame.DataFrame'>\n",
      "RangeIndex: 79920 entries, 0 to 79919\n",
      "Data columns (total 5 columns):\n",
      " #   Column      Non-Null Count  Dtype \n",
      "---  ------      --------------  ----- \n",
      " 0   id_cliente  79920 non-null  object\n",
      " 1   nombre      79920 non-null  object\n",
      " 2   apellido    79920 non-null  object\n",
      " 3   ciudad      79920 non-null  object\n",
      " 4   pais        79920 non-null  object\n",
      "dtypes: object(5)\n",
      "memory usage: 3.0+ MB\n"
     ]
    },
    {
     "name": "stderr",
     "output_type": "stream",
     "text": [
      "<>:3: SyntaxWarning: invalid escape sequence '\\c'\n",
      "<>:3: SyntaxWarning: invalid escape sequence '\\c'\n",
      "C:\\Users\\marg_\\AppData\\Local\\Temp\\ipykernel_23872\\570681968.py:3: SyntaxWarning: invalid escape sequence '\\c'\n",
      "  df_clientes_informacion.to_csv('csv_limpios_finales\\clientes_información.csv')\n"
     ]
    }
   ],
   "source": [
    "df_clientes_informacion=df_ventas_cliente_prod[['id_cliente','nombre','apellido','ciudad','pais']]\n",
    "df_clientes_informacion.to_csv('csv_limpios_finales\\clientes_información.csv')"
   ]
  },
  {
   "cell_type": "code",
   "execution_count": 83,
   "metadata": {},
   "outputs": [
    {
     "name": "stderr",
     "output_type": "stream",
     "text": [
      "<>:3: SyntaxWarning: invalid escape sequence '\\p'\n",
      "<>:4: SyntaxWarning: invalid escape sequence '\\ '\n",
      "<>:3: SyntaxWarning: invalid escape sequence '\\p'\n",
      "<>:4: SyntaxWarning: invalid escape sequence '\\ '\n",
      "C:\\Users\\marg_\\AppData\\Local\\Temp\\ipykernel_23872\\2306241212.py:3: SyntaxWarning: invalid escape sequence '\\p'\n",
      "  df_productos_informacion.to_csv('csv_limpios_finales\\productos_informacion.csv')\n",
      "C:\\Users\\marg_\\AppData\\Local\\Temp\\ipykernel_23872\\2306241212.py:4: SyntaxWarning: invalid escape sequence '\\ '\n",
      "  df_ventas_informacion.to_csv('csv_limpios_finales\\ ventas_informacion.csv')\n"
     ]
    }
   ],
   "source": [
    "df_productos_informacion=df_ventas_cliente_prod[['id_producto','precio','categoria','descripcion']]\n",
    "df_ventas_informacion=df_ventas_cliente_prod[['id_venta','id_producto','id_cliente','cantidad','fecha','valor_total_venta']]\n",
    "df_productos_informacion.to_csv('csv_limpios_finales\\productos_informacion.csv')\n",
    "df_ventas_informacion.to_csv('csv_limpios_finales\\ ventas_informacion.csv')"
   ]
  }
 ],
 "metadata": {
  "kernelspec": {
   "display_name": "base",
   "language": "python",
   "name": "python3"
  },
  "language_info": {
   "codemirror_mode": {
    "name": "ipython",
    "version": 3
   },
   "file_extension": ".py",
   "mimetype": "text/x-python",
   "name": "python",
   "nbconvert_exporter": "python",
   "pygments_lexer": "ipython3",
   "version": "3.12.4"
  }
 },
 "nbformat": 4,
 "nbformat_minor": 2
}
